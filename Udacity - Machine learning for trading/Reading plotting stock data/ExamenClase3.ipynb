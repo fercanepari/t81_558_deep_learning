{
 "cells": [
  {
   "cell_type": "raw",
   "id": "35c816c9",
   "metadata": {},
   "source": [
    "Codigo del examen Clase 3\n"
   ]
  },
  {
   "cell_type": "code",
   "execution_count": 2,
   "id": "506683bf",
   "metadata": {},
   "outputs": [
    {
     "name": "stdout",
     "output_type": "stream",
     "text": [
      "                  SPY        GOOG        IBM         GLD\n",
      "2010-01-22  87.489502  273.978058  86.704697  107.169998\n",
      "2010-01-25  87.938095  268.991760  87.133049  107.480003\n",
      "2010-01-26  87.569580  270.197235  86.877396  107.559998\n"
     ]
    }
   ],
   "source": [
    "\"\"\"Utility functions\"\"\"\n",
    "\n",
    "import os\n",
    "import pandas as pd\n",
    "\n",
    "def symbol_to_path(symbol, base_dir=\"data\"):\n",
    "    \"\"\"Return CSV file path given ticker symbol.\"\"\"\n",
    "    return os.path.join(\"{}.csv\".format(str(symbol)))\n",
    "\n",
    "\n",
    "def get_data(symbols, dates):\n",
    "    \"\"\"Read stock data (adjusted close) for given symbols from CSV files.\"\"\"\n",
    "    df = pd.DataFrame(index=dates)\n",
    "    if 'SPY' not in symbols:  # add SPY for reference, if absent\n",
    "        symbols.insert(0, 'SPY')\n",
    "\n",
    "    for symbol in symbols:\n",
    "        # TODO: Read and join data for each symbol\n",
    "        #df_temp = pd.read_csv('{}.csv'.format(symbol), index_col='Date',\n",
    "        #                     parse_dates=True, usecols=['Date', 'Adj Close'],\n",
    "        #                     na_values=['nan'])\n",
    "        file = symbol_to_path(symbol)\n",
    "        df_temp = pd.read_csv(file, index_col='Date',\n",
    "                             parse_dates=True, usecols=['Date', 'Adj Close'],\n",
    "                             na_values=['nan'])                                 \n",
    "                             \n",
    "        df_temp = df_temp.rename(columns={'Adj Close':symbol})\n",
    "        df = df.join(df_temp)\n",
    "        df = df.dropna()\n",
    "    return df\n",
    "\n",
    "\n",
    "def test_run():\n",
    "    # Define a date range\n",
    "    dates = pd.date_range('2010-01-22', '2010-01-26')\n",
    "\n",
    "    # Choose stock symbols to read\n",
    "    symbols = ['GOOG', 'IBM', 'GLD']\n",
    "    \n",
    "    # Get stock data\n",
    "    df = get_data(symbols, dates)\n",
    "    print (df)\n",
    "\n",
    "\n",
    "if __name__ == \"__main__\":\n",
    "    test_run()"
   ]
  },
  {
   "cell_type": "code",
   "execution_count": null,
   "id": "944c2bba",
   "metadata": {},
   "outputs": [],
   "source": []
  }
 ],
 "metadata": {
  "kernelspec": {
   "display_name": "Python [conda env:torch] *",
   "language": "python",
   "name": "conda-env-torch-py"
  },
  "language_info": {
   "codemirror_mode": {
    "name": "ipython",
    "version": 3
   },
   "file_extension": ".py",
   "mimetype": "text/x-python",
   "name": "python",
   "nbconvert_exporter": "python",
   "pygments_lexer": "ipython3",
   "version": "3.8.8"
  }
 },
 "nbformat": 4,
 "nbformat_minor": 5
}
