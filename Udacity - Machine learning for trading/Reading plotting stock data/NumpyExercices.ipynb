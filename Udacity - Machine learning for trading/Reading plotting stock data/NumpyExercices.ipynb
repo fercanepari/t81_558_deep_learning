{
 "cells": [
  {
   "cell_type": "code",
   "execution_count": 9,
   "id": "6842f77c",
   "metadata": {},
   "outputs": [
    {
     "name": "stdout",
     "output_type": "stream",
     "text": [
      "Array: [ 9  6  2  3 12 14  7 10]\n",
      "Maximum value: 14\n",
      "Index of max.: 5\n"
     ]
    }
   ],
   "source": [
    "\"\"\"Locate maximum value.\"\"\"\n",
    "\n",
    "import numpy as np\n",
    "\n",
    "\n",
    "def get_max_index(a):\n",
    "    \"\"\"Return the index of the maximum value in given 1D array.\"\"\"\n",
    "    # TODO: Your code here\n",
    "    return np.argmax(a) \n",
    "\n",
    "def test_run():\n",
    "    a = np.array([9, 6, 2, 3, 12, 14, 7, 10], dtype=np.int32)  # 32-bit integer array\n",
    "    print (\"Array:\", a)\n",
    "    \n",
    "    # Find the maximum and its index in array\n",
    "    print (\"Maximum value:\", a.max())\n",
    "    print (\"Index of max.:\", get_max_index(a))\n",
    "\n",
    "\n",
    "if __name__ == \"__main__\":\n",
    "    test_run()\n"
   ]
  },
  {
   "cell_type": "code",
   "execution_count": 11,
   "id": "330b9c21",
   "metadata": {},
   "outputs": [
    {
     "name": "stdout",
     "output_type": "stream",
     "text": [
      "ML4T\n",
      "The time taken by print statement is  0.0  seconds\n"
     ]
    }
   ],
   "source": [
    "import time\n",
    "\n",
    "def test_run():\n",
    "    t1 = time.time()\n",
    "    print(\"ML4T\")\n",
    "    t2 = time.time()\n",
    "    print(\"The time taken by print statement is \", t2 - t1 ,\" seconds\")\n",
    "    \n",
    "    \n",
    "\n",
    "\n",
    "if __name__ == \"__main__\":\n",
    "    test_run()"
   ]
  },
  {
   "cell_type": "code",
   "execution_count": 15,
   "id": "864f95a4",
   "metadata": {},
   "outputs": [
    {
     "name": "stdout",
     "output_type": "stream",
     "text": [
      "Array: \n",
      " [[0.15183634 0.71986715 0.03979915 0.66566073]\n",
      " [0.68864517 0.68210441 0.12543607 0.59247708]\n",
      " [0.19597311 0.94593035 0.05061334 0.21139713]\n",
      " [0.85541275 0.91051    0.85468252 0.55898472]\n",
      " [0.7423778  0.82598322 0.74542096 0.34694188]]\n",
      "[0.71986715 0.03979915]\n",
      "[[0.15183634 0.71986715]\n",
      " [0.68864517 0.68210441]]\n",
      "[[0.15183634 0.03979915]\n",
      " [0.68864517 0.12543607]\n",
      " [0.19597311 0.05061334]\n",
      " [0.85541275 0.85468252]\n",
      " [0.7423778  0.74542096]]\n"
     ]
    }
   ],
   "source": [
    "#Accessing array elements\n",
    "import numpy as np\n",
    "\n",
    "def test_run():\n",
    "    a = np.random.rand(5, 4)\n",
    "    print(\"Array: \\n\", a)\n",
    "    \n",
    "    #Accessing element at position (3, 2)\n",
    "    element = a[3, 2]\n",
    "    \n",
    "    #Element in defined range\n",
    "    print(a[0, 1:3])\n",
    "    \n",
    "    #Top left corner\n",
    "    print(a[0:2, 0:2])\n",
    "    \n",
    "    #Slice n:m:t specifies a range that starts in n, stops before m of size t\n",
    "    print(a[:, 0:3:2]) #Will select columns 0, 2 for every row\n",
    "\n",
    "\n",
    "if __name__ == \"__main__\":\n",
    "    test_run()\n",
    "\n"
   ]
  },
  {
   "cell_type": "code",
   "execution_count": null,
   "id": "0df27f09",
   "metadata": {},
   "outputs": [],
   "source": []
  }
 ],
 "metadata": {
  "kernelspec": {
   "display_name": "Python [conda env:torch] *",
   "language": "python",
   "name": "conda-env-torch-py"
  },
  "language_info": {
   "codemirror_mode": {
    "name": "ipython",
    "version": 3
   },
   "file_extension": ".py",
   "mimetype": "text/x-python",
   "name": "python",
   "nbconvert_exporter": "python",
   "pygments_lexer": "ipython3",
   "version": "3.8.8"
  }
 },
 "nbformat": 4,
 "nbformat_minor": 5
}
