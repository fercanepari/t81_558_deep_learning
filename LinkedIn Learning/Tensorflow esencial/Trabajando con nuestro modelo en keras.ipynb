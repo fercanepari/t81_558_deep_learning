{
 "cells": [
  {
   "cell_type": "markdown",
   "metadata": {},
   "source": [
    "## Trabajando con modelos\n",
    "Una vez definido el modelo debemos\n",
    "* Añadir capas\n",
    "* Compilar el modelo\n",
    "* Entrenar el modelo\n",
    "* Predecir con el modelo\n"
   ]
  },
  {
   "cell_type": "markdown",
   "metadata": {},
   "source": [
    "### Añadir capas al modelo\n",
    "#### Secuencial\n",
    "En la API secuencial utilizamos el comando model.add() para ir añadiendo capas\n",
    "```\n",
    "model = Sequential() \n",
    "model.add(Dense(10, input_shape=(23,)) \n",
    "model.add(Activation('tanh'))\n",
    "model.add(Dense(10))\n",
    "model.add(Activation('softmax'))\n",
    "```\n",
    "\n",
    "### Funcional\n",
    "\n",
    "Para la creación de modelo secuencial debemos ir definiendo las capas e ir interconectándolas\n",
    "\n",
    "```\n",
    "input = Input(shape=(12,))\n",
    "hidden1 = Dense(10)(input)\n",
    "hidden2 = Activation('tanh')(hidden1)\n",
    "hidden3 = Dense(10)(hidden2)\n",
    "output = Activation('tanh')(hidden3)\n",
    "\n",
    "\n",
    "model = Model(inputs=input, outputs=output)\n",
    "\n",
    "```\n"
   ]
  },
  {
   "cell_type": "markdown",
   "metadata": {},
   "source": [
    "### Compilar las capas\n",
    "\n",
    "El modelo creado debe compilarse con el método model.compile () antes de que pueda usarse para capacitación y predicción. \n",
    "\n",
    "```\n",
    "compile(self, optimizar, loss, metrics=None, sample_weight_mode=None)\n",
    "\n",
    "```"
   ]
  },
  {
   "cell_type": "markdown",
   "metadata": {},
   "source": [
    "### Entrenamos el modelo\n",
    "```\n",
    "fit(self, x, y, batch_size=32, epochs=10, verbose=1, callbacks=None, \n",
    "    validation_split=0.0, validation_data=None, shuffle=True, \n",
    "    class_weight=None, sample_weight=None, initial_epoch=0)\n",
    "    \n",
    "model.fit(x_data, y_labels)\n",
    "\n",
    "    ```\n",
    "    "
   ]
  },
  {
   "cell_type": "markdown",
   "metadata": {},
   "source": [
    "### Evaluamos y predecimos con el modelo\n",
    "\n",
    "El modelo entrenado se puede usar para predecir el valor con el método model.predict () o para evaluar el modelo con el método model.evaluate ().\n",
    "\n",
    "\n",
    "    ``` \n",
    "    predict(self, xtests, batch_size=32)\n",
    "    evaluate(self, x, y, batch_size=32)\n",
    "    \n",
    "    ```\n",
    "    "
   ]
  },
  {
   "cell_type": "code",
   "execution_count": null,
   "metadata": {},
   "outputs": [],
   "source": []
  }
 ],
 "metadata": {
  "kernelspec": {
   "display_name": "Python 3",
   "language": "python",
   "name": "python3"
  },
  "language_info": {
   "codemirror_mode": {
    "name": "ipython",
    "version": 3
   },
   "file_extension": ".py",
   "mimetype": "text/x-python",
   "name": "python",
   "nbconvert_exporter": "python",
   "pygments_lexer": "ipython3",
   "version": "3.6.8"
  }
 },
 "nbformat": 4,
 "nbformat_minor": 2
}
