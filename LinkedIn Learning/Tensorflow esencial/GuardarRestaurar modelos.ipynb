{
 "cells": [
  {
   "cell_type": "markdown",
   "metadata": {},
   "source": [
    "# Guardar/Restaurar modelos  en TensorFlow\n",
    "\n",
    "## Definición: \n",
    "    Una vez genera un modelo debemos saber cómo guardarlo o restaurarlo más tarde \n",
    "    para poder volverlo a ejecutar\n",
    "\n",
    "## Sintaxis:    \n",
    "  ### Para guardar\n",
    "        Inicializar las variables \n",
    "        \n",
    "            tf.global_variables_initializer()\n",
    "        \n",
    "        Crear el saver \n",
    "            \n",
    "               saver = tf.train.Saver()\n",
    "        \n",
    "        Hacer correr run con variables inicializadas\n",
    "            \n",
    "               guardar = saver.save(sess, \"/tmp/model.ckpt\")\n",
    "        \n",
    "        \n",
    "   ### Para restaurar\n",
    "        \n",
    "        Resetear los valores del grafo \n",
    "        \n",
    "                tf.reset_default_graph()\n",
    "        \n",
    "        \n",
    "        Restaurar el modelo\n",
    "        \n",
    "                restaurar = saver.restore(sess, \"/tmp/model.meta.ckpt\")\n",
    "           "
   ]
  },
  {
   "cell_type": "code",
   "execution_count": null,
   "metadata": {},
   "outputs": [],
   "source": []
  }
 ],
 "metadata": {
  "kernelspec": {
   "display_name": "Python 3",
   "language": "python",
   "name": "python3"
  },
  "language_info": {
   "codemirror_mode": {
    "name": "ipython",
    "version": 3
   },
   "file_extension": ".py",
   "mimetype": "text/x-python",
   "name": "python",
   "nbconvert_exporter": "python",
   "pygments_lexer": "ipython3",
   "version": "3.6.8"
  }
 },
 "nbformat": 4,
 "nbformat_minor": 2
}
