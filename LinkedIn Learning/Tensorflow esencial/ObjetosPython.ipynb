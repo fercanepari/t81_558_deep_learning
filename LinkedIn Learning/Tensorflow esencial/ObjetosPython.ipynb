{
 "cells": [
  {
   "cell_type": "markdown",
   "metadata": {},
   "source": [
    "# Objetos Python en TensorFlow\n",
    "\n",
    "## Definición: \n",
    "   Otra forma de crear tensores es a partir de objetos de Python\n",
    "\n",
    "\n",
    "## Sintaxis:    \n",
    "    \n",
    "       tf.convert_to_tensor(\n",
    "           objeto,\n",
    "           dtype\n",
    "           )"
   ]
  },
  {
   "cell_type": "code",
   "execution_count": 1,
   "metadata": {},
   "outputs": [
    {
     "name": "stdout",
     "output_type": "stream",
     "text": [
      "WARNING:tensorflow:From C:\\ProgramData\\Miniconda3\\envs\\torch\\lib\\site-packages\\tensorflow\\python\\compat\\v2_compat.py:96: disable_resource_variables (from tensorflow.python.ops.variable_scope) is deprecated and will be removed in a future version.\n",
      "Instructions for updating:\n",
      "non-resource variables are not supported in the long term\n",
      "Valor del tensor  Tensor(\"Const:0\", shape=(), dtype=float64)\n",
      "Valor del tensor  5.9\n"
     ]
    }
   ],
   "source": [
    "import tensorflow.compat.v1 as tf\n",
    "tf.disable_v2_behavior()\n",
    "\n",
    "import numpy as np\n",
    "\n",
    "tfloat = tf.convert_to_tensor(5.9, dtype=tf.float64)\n",
    "print(\"Valor del tensor \", tfloat)\n",
    "sess = tf.Session()\n",
    "print(\"Valor del tensor \", sess.run(tfloat))\n"
   ]
  },
  {
   "cell_type": "code",
   "execution_count": 2,
   "metadata": {},
   "outputs": [
    {
     "name": "stdout",
     "output_type": "stream",
     "text": [
      "Valor de vvar  [1.  2.  3.  4.4 5. ]\n",
      "Valor de tvar  Tensor(\"Const_1:0\", shape=(5,), dtype=float64)\n",
      "Valor con contenido tvar  [1.  2.  3.  4.4 5. ]\n"
     ]
    }
   ],
   "source": [
    "vvar = np.array([1,2,3,4.4,5])\n",
    "print(\"Valor de vvar \", vvar)\n",
    "tvvar = tf.convert_to_tensor(vvar)\n",
    "print(\"Valor de tvar \", tvvar)\n",
    "sess = tf.Session()\n",
    "print(\"Valor con contenido tvar \", sess.run(tvvar))\n",
    "\n"
   ]
  },
  {
   "cell_type": "code",
   "execution_count": null,
   "metadata": {},
   "outputs": [],
   "source": []
  }
 ],
 "metadata": {
  "kernelspec": {
   "display_name": "Python 3",
   "language": "python",
   "name": "python3"
  },
  "language_info": {
   "codemirror_mode": {
    "name": "ipython",
    "version": 3
   },
   "file_extension": ".py",
   "mimetype": "text/x-python",
   "name": "python",
   "nbconvert_exporter": "python",
   "pygments_lexer": "ipython3",
   "version": "3.8.8"
  }
 },
 "nbformat": 4,
 "nbformat_minor": 2
}
