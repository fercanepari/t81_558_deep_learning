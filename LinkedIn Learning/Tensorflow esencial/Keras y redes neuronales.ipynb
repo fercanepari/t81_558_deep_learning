{
 "cells": [
  {
   "cell_type": "markdown",
   "metadata": {},
   "source": [
    "## Keras y las redes neuronales\n",
    "\n",
    "Los modelos de redes neuronales en Keras se definen como el grafo de capas. \n",
    "\n",
    "Tanto las API funcionales como las secuenciales se pueden usar para construir cualquier tipo de modelos. \n",
    "\n",
    "Veamos un ejemplo de una red usando Keras con TensorFlow\n",
    "\n"
   ]
  },
  {
   "cell_type": "code",
   "execution_count": 29,
   "metadata": {},
   "outputs": [
    {
     "name": "stdout",
     "output_type": "stream",
     "text": [
      "1/1 [==============================] - 0s 318ms/sample - loss: 3.8101 - sparse_categorical_accuracy: 0.0000e+00\n",
      "Model: \"sequential_25\"\n",
      "_________________________________________________________________\n",
      "Layer (type)                 Output Shape              Param #   \n",
      "=================================================================\n",
      "dense_50 (Dense)             (None, 32)                192       \n",
      "_________________________________________________________________\n",
      "dense_51 (Dense)             (None, 1)                 33        \n",
      "=================================================================\n",
      "Total params: 225\n",
      "Trainable params: 225\n",
      "Non-trainable params: 0\n",
      "_________________________________________________________________\n",
      "\n",
      "Resultado del modelo: {'loss': [3.8100900650024414], 'sparse_categorical_accuracy': [0.0]}\n",
      "\n",
      "# Evaluamos los datos\n",
      "1/1 [==============================] - 0s 163ms/sample - loss: 2.2592 - sparse_categorical_accuracy: 0.0000e+00\n",
      "test loss, test acc: [2.259178400039673, 0.0]\n",
      "\n",
      "# Generamos predicciones para un ejemplo\n",
      "predictions: [[0.07441909]]\n"
     ]
    }
   ],
   "source": [
    "#Ejemplo sequencial\n",
    "import tensorflow as tf\n",
    "from tensorflow.keras.models import Sequential\n",
    "from tensorflow.keras.layers import Dense\n",
    "\n",
    "\n",
    "import numpy as np\n",
    "x_input = np.array([[1,2,3,4,5]])\n",
    "y_input = np.array([[1]])\n",
    "\n",
    "x_test = np.array([[1,2,3,4,5]])\n",
    "y_test = np.array([[1]])\n",
    "\n",
    "\n",
    "model = tf.keras.Sequential()\n",
    "model.add(tf.keras.layers.Dense(units=32, activation=\"tanh\",\n",
    "                                input_dim=x_input.shape[1], \n",
    "                                kernel_initializer='random_normal'))\n",
    "model.add(tf.keras.layers.Dense(units=1, \n",
    "                                kernel_initializer='random_normal'))\n",
    "model.compile(optimizer= tf.keras.optimizers.RMSprop(),  \n",
    "              \n",
    "              loss=tf.keras.losses.binary_crossentropy,\n",
    "              \n",
    "              metrics=[tf.keras.metrics.SparseCategoricalAccuracy()])\n",
    "\n",
    "history = model.fit(x_input, y_input)\n",
    "\n",
    "model.summary()\n",
    "\n",
    "print('\\nResultado del modelo:', history.history)\n",
    "\n",
    "print('\\n# Evaluamos los datos')\n",
    "results = model.evaluate(x_test, y_test, batch_size=128)\n",
    "print('test loss, test acc:', results)\n",
    "\n",
    "\n",
    "print('\\n# Generamos predicciones para un ejemplo')\n",
    "predictions = model.predict( np.array([[1,2,2,2,5]]))\n",
    "print('predictions:', predictions)\n",
    "\n",
    "\n"
   ]
  },
  {
   "cell_type": "code",
   "execution_count": null,
   "metadata": {},
   "outputs": [],
   "source": []
  }
 ],
 "metadata": {
  "kernelspec": {
   "display_name": "Python 3",
   "language": "python",
   "name": "python3"
  },
  "language_info": {
   "codemirror_mode": {
    "name": "ipython",
    "version": 3
   },
   "file_extension": ".py",
   "mimetype": "text/x-python",
   "name": "python",
   "nbconvert_exporter": "python",
   "pygments_lexer": "ipython3",
   "version": "3.4.3"
  }
 },
 "nbformat": 4,
 "nbformat_minor": 2
}
