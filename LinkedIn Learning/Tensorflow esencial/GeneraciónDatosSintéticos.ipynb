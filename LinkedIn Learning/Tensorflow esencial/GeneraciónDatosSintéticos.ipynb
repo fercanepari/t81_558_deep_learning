{
 "cells": [
  {
   "cell_type": "markdown",
   "metadata": {},
   "source": [
    "### Generación y adecuación de datos sintéticos\n",
    "* Generación de datos\n",
    "* Visualización\n",
    "* Codificación de la salida en one-hot\n",
    "* Separación de los conjuntos de training y test\n",
    "\n",
    "Todo utilizando la librería ScikitLearn\n"
   ]
  },
  {
   "cell_type": "code",
   "execution_count": 4,
   "metadata": {},
   "outputs": [],
   "source": [
    "import tensorflow as tf\n",
    "from sklearn import datasets as skds\n"
   ]
  },
  {
   "cell_type": "code",
   "execution_count": 7,
   "metadata": {},
   "outputs": [
    {
     "name": "stdout",
     "output_type": "stream",
     "text": [
      "[1 1 0 0 0]\n"
     ]
    }
   ],
   "source": [
    "X, y = skds.make_classification(n_samples=400,\n",
    "   n_features=2,\n",
    "   n_informative=2, \n",
    "   n_redundant=0,  \n",
    "   n_repeated=0, \n",
    "   n_classes=2,\n",
    "   n_clusters_per_class=1)\n",
    "print(y[1:6])"
   ]
  },
  {
   "cell_type": "code",
   "execution_count": 8,
   "metadata": {},
   "outputs": [
    {
     "data": {
      "image/png": "[encoded data removed]",
      "text/plain": [
       "<Figure size 432x288 with 1 Axes>"
      ]
     },
     "metadata": {
      "needs_background": "light"
     },
     "output_type": "display_data"
    }
   ],
   "source": [
    "import matplotlib.pyplot as plt\n",
    "plt.scatter(X[:,0],X[:,1],marker='o',c=y)\n",
    "plt.show()"
   ]
  },
  {
   "cell_type": "code",
   "execution_count": 9,
   "metadata": {
    "scrolled": true
   },
   "outputs": [
    {
     "name": "stdout",
     "output_type": "stream",
     "text": [
      "[1 1 0 0 0]\n",
      "[[0. 1.]\n",
      " [0. 1.]\n",
      " [1. 0.]\n",
      " [1. 0.]\n",
      " [1. 0.]]\n"
     ]
    }
   ],
   "source": [
    "print(y[1:6])\n",
    "import numpy as np\n",
    "y=np.eye(2)[y]\n",
    "print(y[1:6])"
   ]
  },
  {
   "cell_type": "code",
   "execution_count": 10,
   "metadata": {},
   "outputs": [
    {
     "name": "stdout",
     "output_type": "stream",
     "text": [
      "X_train : [[-2.31363133  2.1478125 ]\n",
      " [-1.34581623 -0.75326807]\n",
      " [-2.69390278  1.82169857]]\n",
      "y_train : [[0. 1.]\n",
      " [1. 0.]\n",
      " [0. 1.]]\n",
      "X_test : [[-1.03711718  0.83400186]\n",
      " [-1.0812221   1.17609994]\n",
      " [-0.38124005  0.73418967]]\n",
      "y_test : [[0. 1.]\n",
      " [0. 1.]\n",
      " [0. 1.]]\n"
     ]
    }
   ],
   "source": [
    "from sklearn.model_selection import train_test_split\n",
    "\n",
    "X_train, X_test, y_train, y_test = (train_test_split(X, y,test_size=0.20, random_state=17))\n",
    "\n",
    "print(\"X_train :\", X_train[1:4])\n",
    "print(\"y_train :\", y_train[1:4])\n",
    "\n",
    "print(\"X_test :\",X_test[1:4])\n",
    "print(\"y_test :\",y_test[1:4])"
   ]
  },
  {
   "cell_type": "markdown",
   "metadata": {},
   "source": [
    "fabasdg\n",
    "\n",
    "\n",
    "\n",
    "\n",
    "\n",
    "\n",
    "\n",
    "\n",
    "\n",
    "\n",
    "\n",
    "\n",
    "\n",
    "\n",
    "\n",
    "\n",
    "\n",
    "\n"
   ]
  },
  {
   "cell_type": "code",
   "execution_count": null,
   "metadata": {},
   "outputs": [],
   "source": []
  }
 ],
 "metadata": {
  "kernelspec": {
   "display_name": "Python [conda env:torch] *",
   "language": "python",
   "name": "conda-env-torch-py"
  },
  "language_info": {
   "codemirror_mode": {
    "name": "ipython",
    "version": 3
   },
   "file_extension": ".py",
   "mimetype": "text/x-python",
   "name": "python",
   "nbconvert_exporter": "python",
   "pygments_lexer": "ipython3",
   "version": "3.8.8"
  }
 },
 "nbformat": 4,
 "nbformat_minor": 2
}
