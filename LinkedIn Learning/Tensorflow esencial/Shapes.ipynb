{
 "cells": [
  {
   "cell_type": "markdown",
   "metadata": {},
   "source": [
    "# Shape en TensorFlow\n",
    "\n",
    "## Definición: \n",
    "    Shape describe tanto las dimensiones numéricas en un \n",
    "    tensor como la longitud de cada dimensión. \n",
    "\n",
    "\n",
    "## Sintaxis:    \n",
    "    \n",
    "       tf.shape(tensor)"
   ]
  },
  {
   "cell_type": "code",
   "execution_count": 1,
   "metadata": {},
   "outputs": [
    {
     "name": "stdout",
     "output_type": "stream",
     "text": [
      "WARNING:tensorflow:From C:\\ProgramData\\Miniconda3\\envs\\torch\\lib\\site-packages\\tensorflow\\python\\compat\\v2_compat.py:96: disable_resource_variables (from tensorflow.python.ops.variable_scope) is deprecated and will be removed in a future version.\n",
      "Instructions for updating:\n",
      "non-resource variables are not supported in the long term\n"
     ]
    }
   ],
   "source": [
    "import tensorflow.compat.v1 as tf\n",
    "tf.disable_v2_behavior()\n",
    "import numpy as np"
   ]
  },
  {
   "cell_type": "code",
   "execution_count": 2,
   "metadata": {},
   "outputs": [
    {
     "name": "stdout",
     "output_type": "stream",
     "text": [
      "Tensor(\"Shape:0\", shape=(?,), dtype=int32)\n",
      "[2 3 4]\n"
     ]
    }
   ],
   "source": [
    "b = tf.placeholder(tf.int32, shape=None)\n",
    "a = [1,2,3]\n",
    "suma = tf.add(a,b )\n",
    "print(tf.shape(suma))\n",
    "sess = tf.Session()\n",
    "dic = {b:[1,1,1]}\n",
    "print(sess.run(suma, feed_dict=dic))"
   ]
  },
  {
   "cell_type": "code",
   "execution_count": null,
   "metadata": {},
   "outputs": [],
   "source": []
  }
 ],
 "metadata": {
  "kernelspec": {
   "display_name": "Python 3",
   "language": "python",
   "name": "python3"
  },
  "language_info": {
   "codemirror_mode": {
    "name": "ipython",
    "version": 3
   },
   "file_extension": ".py",
   "mimetype": "text/x-python",
   "name": "python",
   "nbconvert_exporter": "python",
   "pygments_lexer": "ipython3",
   "version": "3.8.8"
  }
 },
 "nbformat": 4,
 "nbformat_minor": 2
}
