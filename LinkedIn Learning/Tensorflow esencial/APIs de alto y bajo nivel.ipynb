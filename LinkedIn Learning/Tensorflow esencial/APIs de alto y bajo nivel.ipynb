{
 "cells": [
  {
   "cell_type": "markdown",
   "metadata": {},
   "source": [
    "# API de bajo nivel\n",
    "    * Flexibles\n",
    "    * Elaboradas\n",
    "\n",
    "# APIS de alto nivel\n",
    "    * Sencillas\n",
    "    * Mas rígidas\n",
    "    * Ejemplos\n",
    "        * Estimadores\n",
    "        * Dataset\n",
    "        * Layers\n",
    "        * Keras"
   ]
  }
 ],
 "metadata": {
  "kernelspec": {
   "display_name": "Python 3",
   "language": "python",
   "name": "python3"
  },
  "language_info": {
   "codemirror_mode": {
    "name": "ipython",
    "version": 3
   },
   "file_extension": ".py",
   "mimetype": "text/x-python",
   "name": "python",
   "nbconvert_exporter": "python",
   "pygments_lexer": "ipython3",
   "version": "3.6.8"
  }
 },
 "nbformat": 4,
 "nbformat_minor": 2
}
