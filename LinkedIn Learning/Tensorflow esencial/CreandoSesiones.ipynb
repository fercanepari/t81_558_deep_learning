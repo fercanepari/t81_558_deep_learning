{
 "cells": [
  {
   "cell_type": "code",
   "execution_count": 20,
   "metadata": {},
   "outputs": [],
   "source": [
    "import tensorflow as tf"
   ]
  },
  {
   "cell_type": "code",
   "execution_count": 25,
   "metadata": {},
   "outputs": [
    {
     "name": "stdout",
     "output_type": "stream",
     "text": [
      "36\n",
      "165\n"
     ]
    }
   ],
   "source": [
    "g1 = tf.Graph()\n",
    "with g1.as_default():\n",
    "    a = tf.add(2,4)\n",
    "    b = tf.add(3,3)\n",
    "    product = tf.multiply(a,b)\n",
    "sess = tf.Session(graph = g1)\n",
    "print(sess.run(product))\n",
    "\n",
    "\n",
    "g2 = tf.Graph()\n",
    "with g2.as_default():\n",
    "    a = tf.add(5,6)\n",
    "    b = tf.add(8,7)\n",
    "    product = tf.multiply(a,b)\n",
    "    \n",
    "sess = tf.Session(graph = g2)\n",
    "print(sess.run(product))"
   ]
  },
  {
   "cell_type": "code",
   "execution_count": null,
   "metadata": {},
   "outputs": [],
   "source": []
  }
 ],
 "metadata": {
  "kernelspec": {
   "display_name": "Python 3",
   "language": "python",
   "name": "python3"
  },
  "language_info": {
   "codemirror_mode": {
    "name": "ipython",
    "version": 3
   },
   "file_extension": ".py",
   "mimetype": "text/x-python",
   "name": "python",
   "nbconvert_exporter": "python",
   "pygments_lexer": "ipython3",
   "version": "3.6.8"
  }
 },
 "nbformat": 4,
 "nbformat_minor": 2
}
