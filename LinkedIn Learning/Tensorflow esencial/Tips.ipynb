{
 "cells": [
  {
   "cell_type": "markdown",
   "metadata": {},
   "source": [
    "### TIPs trabajando con TensorFlow\n",
    "* Obtener e imprimir valores dentro de Session.run()\n",
    "    \n",
    "    print ( \"El parámetro de sesgo es: {\n",
    "            sess.run (b, feed_dict = \n",
    "                        {x: mnist.test.images, y_: mnist .test.labels})} \")\n",
    "\n",
    "* Método eval()\n",
    "* Depurador CLI TensorFlow\n",
    "     tf_debug.LocalCLIDebugWrapperSession (sess) \n",
    "* Los clásicos\n",
    "    * Nombre los tensores correctamente\n",
    "\n",
    "    * Verificar los tipos de entradas \n",
    "    \n",
    "    * Logs en el código\n",
    "    \n",
    "    * Organiza tu código en módulos\n",
    "    \n",
    "    * Guarda bien tus modelos"
   ]
  }
 ],
 "metadata": {
  "kernelspec": {
   "display_name": "Python 3",
   "language": "python",
   "name": "python3"
  },
  "language_info": {
   "codemirror_mode": {
    "name": "ipython",
    "version": 3
   },
   "file_extension": ".py",
   "mimetype": "text/x-python",
   "name": "python",
   "nbconvert_exporter": "python",
   "pygments_lexer": "ipython3",
   "version": "3.6.8"
  }
 },
 "nbformat": 4,
 "nbformat_minor": 2
}
