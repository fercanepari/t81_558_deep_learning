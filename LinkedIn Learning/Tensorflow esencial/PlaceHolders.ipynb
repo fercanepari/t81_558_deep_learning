{
 "cells": [
  {
   "cell_type": "markdown",
   "metadata": {},
   "source": [
    "# PlaceHolders en TensorFlow\n",
    "\n",
    "## Definición: \n",
    "    Un PlaceHolder permite crear tensores cuyos valores se pueden \n",
    "    proporcionar en el tiempo de ejecución\n",
    "\n",
    "\n",
    "## Sintaxis:    \n",
    "    \n",
    "       tf.placeholder(\n",
    "           dtype,\n",
    "           shape = None,\n",
    "           name\n",
    "\n"
   ]
  },
  {
   "cell_type": "code",
   "execution_count": 7,
   "metadata": {},
   "outputs": [
    {
     "data": {
      "text/plain": [
       "19"
      ]
     },
     "execution_count": 7,
     "metadata": {},
     "output_type": "execute_result"
    }
   ],
   "source": [
    "import tensorflow.compat.v1 as tf\n",
    "tf.disable_v2_behavior() \n",
    "\n",
    "a = tf.placeholder(tf.int32, shape=[2], name=\"mivec\")\n",
    "b = tf.reduce_prod(a, name=\"prod_b\")\n",
    "c = tf.reduce_sum(a, name=\"sum_c\")\n",
    "d = tf.add(b,c, name=\"add_d\")\n",
    "\n",
    "#tf.compat.v1.disable_eager_execution()\n",
    "sess = tf.Session()\n",
    "\n",
    "a_dic = {a:[3,4]}\n",
    "sess.run(d, feed_dict=a_dic)\n"
   ]
  },
  {
   "cell_type": "code",
   "execution_count": null,
   "metadata": {},
   "outputs": [],
   "source": []
  }
 ],
 "metadata": {
  "kernelspec": {
   "display_name": "Python 3",
   "language": "python",
   "name": "python3"
  },
  "language_info": {
   "codemirror_mode": {
    "name": "ipython",
    "version": 3
   },
   "file_extension": ".py",
   "mimetype": "text/x-python",
   "name": "python",
   "nbconvert_exporter": "python",
   "pygments_lexer": "ipython3",
   "version": "3.8.8"
  }
 },
 "nbformat": 4,
 "nbformat_minor": 2
}
