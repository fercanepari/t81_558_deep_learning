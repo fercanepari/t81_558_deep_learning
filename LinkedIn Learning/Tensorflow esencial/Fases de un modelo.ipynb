{
 "cells": [
  {
   "cell_type": "markdown",
   "metadata": {},
   "source": [
    "\n",
    "Vamos a implementar un clasificador binario utilizando el API de bajo nivel\n",
    "\n",
    "### Fases de generación de un  modelo\n",
    "* Cargar/Generar los datos\n",
    "* Definir las entradas, parámetros y otras variables\n",
    "*  Definir las funciones de pérdida\n",
    "*  Definir las funciones de optimización de nuestro modelo\n",
    "*  Definir el modelo\n",
    "*  Entrenar el modelo\n",
    "*  Evaluar el modelo\n",
    "*  Salvar el modelo desarrollado\n",
    "*  Predecir con nueva entrada de datos"
   ]
  },
  {
   "cell_type": "code",
   "execution_count": null,
   "metadata": {},
   "outputs": [],
   "source": []
  }
 ],
 "metadata": {
  "kernelspec": {
   "display_name": "Python 3",
   "language": "python",
   "name": "python3"
  },
  "language_info": {
   "codemirror_mode": {
    "name": "ipython",
    "version": 3
   },
   "file_extension": ".py",
   "mimetype": "text/x-python",
   "name": "python",
   "nbconvert_exporter": "python",
   "pygments_lexer": "ipython3",
   "version": "3.6.8"
  }
 },
 "nbformat": 4,
 "nbformat_minor": 2
}
