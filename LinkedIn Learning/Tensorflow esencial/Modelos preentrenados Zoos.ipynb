{
 "cells": [
  {
   "cell_type": "markdown",
   "metadata": {},
   "source": [
    "## Modelos preentrenados Zoos\n",
    "\n",
    "\n",
    "TensorFlow tiene su propio catálogo de modelos\n",
    "https://github.com/tensorflow/models\n",
    "\n",
    "Todos con licencia Apache 2.0\n",
    "Dentro de la web podremos encontrar:\n",
    "* Modelos oficiales\n",
    "* Modelos de investigación\n",
    "* Ejemplos\n",
    "* Tutoriales\n",
    "\n",
    "¿A qué esperas para darte una vuelta por su github?\n",
    "\n",
    "\n"
   ]
  },
  {
   "cell_type": "code",
   "execution_count": null,
   "metadata": {},
   "outputs": [],
   "source": []
  }
 ],
 "metadata": {
  "kernelspec": {
   "display_name": "Python 3",
   "language": "python",
   "name": "python3"
  },
  "language_info": {
   "codemirror_mode": {
    "name": "ipython",
    "version": 3
   },
   "file_extension": ".py",
   "mimetype": "text/x-python",
   "name": "python",
   "nbconvert_exporter": "python",
   "pygments_lexer": "ipython3",
   "version": "3.6.8"
  }
 },
 "nbformat": 4,
 "nbformat_minor": 2
}
