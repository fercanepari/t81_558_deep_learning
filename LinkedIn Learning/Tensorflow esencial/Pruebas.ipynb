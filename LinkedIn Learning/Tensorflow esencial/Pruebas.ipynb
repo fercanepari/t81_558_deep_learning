{
 "cells": [
  {
   "cell_type": "markdown",
   "id": "8fb5b668",
   "metadata": {},
   "source": [
    "## Importar Tensorflow"
   ]
  },
  {
   "cell_type": "code",
   "execution_count": 5,
   "id": "5c871e45",
   "metadata": {},
   "outputs": [
    {
     "data": {
      "text/plain": [
       "b'Hola mundo'"
      ]
     },
     "execution_count": 5,
     "metadata": {},
     "output_type": "execute_result"
    }
   ],
   "source": [
    "import tensorflow as tf\n",
    "\n",
    "hola_mundo = tf.constant(\"Hola mundo\")\n",
    "\n",
    "tf.compat.v1.disable_eager_execution()\n",
    "\n",
    "sess = tf.compat.v1.Session()\n",
    "sess.run(hola_mundo)"
   ]
  },
  {
   "cell_type": "code",
   "execution_count": 6,
   "id": "95b0661c",
   "metadata": {},
   "outputs": [
    {
     "data": {
      "text/plain": [
       "31"
      ]
     },
     "execution_count": 6,
     "metadata": {},
     "output_type": "execute_result"
    }
   ],
   "source": [
    "a = tf.constant(7, name=\"input_a\")\n",
    "b = tf.constant(3, name=\"input_b\")\n",
    "\n",
    "c = tf.add(a,b, name=\"add_c\")\n",
    "d = tf.multiply(a,b, name=\"mul_d\")\n",
    "\n",
    "e = tf.add(c, d, name=\"add_e\")\n",
    "\n",
    "sess1 = tf.compat.v1.Session()\n",
    "sess1.run(e)\n"
   ]
  },
  {
   "cell_type": "code",
   "execution_count": 9,
   "id": "3b8e7fdc",
   "metadata": {},
   "outputs": [
    {
     "name": "stdout",
     "output_type": "stream",
     "text": [
      "10\n",
      "200\n"
     ]
    }
   ],
   "source": [
    "miGrafo = tf.Graph()\n",
    "with miGrafo.as_default():\n",
    "    a = tf.constant(3, name=\"input_a\")\n",
    "    b = tf.constant(7, name=\"input_b\")\n",
    "    suma = tf.add(a,b)\n",
    "    sess2 = tf.compat.v1.Session()\n",
    "    print(sess2.run(suma))\n",
    "    \n",
    "c = tf.constant(10, name=\"input_a\")\n",
    "d = tf.constant(20, name=\"input_b\")\n",
    "\n",
    "mul = tf.multiply(c,d)\n",
    "sess2 = tf.compat.v1.Session()\n",
    "print(sess2.run(mul))\n"
   ]
  },
  {
   "cell_type": "code",
   "execution_count": null,
   "id": "ca86d098",
   "metadata": {},
   "outputs": [],
   "source": []
  }
 ],
 "metadata": {
  "kernelspec": {
   "display_name": "Python [conda env:torch] *",
   "language": "python",
   "name": "conda-env-torch-py"
  },
  "language_info": {
   "codemirror_mode": {
    "name": "ipython",
    "version": 3
   },
   "file_extension": ".py",
   "mimetype": "text/x-python",
   "name": "python",
   "nbconvert_exporter": "python",
   "pygments_lexer": "ipython3",
   "version": "3.8.8"
  }
 },
 "nbformat": 4,
 "nbformat_minor": 5
}
