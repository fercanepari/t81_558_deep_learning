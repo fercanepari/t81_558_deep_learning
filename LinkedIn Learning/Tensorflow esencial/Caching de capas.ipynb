{
 "cells": [
  {
   "cell_type": "markdown",
   "metadata": {},
   "source": [
    "## Caching de capas\n",
    "\n",
    "* Si congelamos capas no es necesario estar calculando todo el rato toda la red\n",
    "* Podemos cachear esos valores asociados a las capas congeladas \n",
    "* Obtenemos mayor rapidez de cómputo\n"
   ]
  },
  {
   "cell_type": "markdown",
   "metadata": {},
   "source": [
    "``` \n",
    "    cache = sess.run(hidden2, feed_dict={X: X.train.images})\n",
    "\n",
    "    por_cada_epoch\n",
    "        \n",
    "        idx = np.random.permutation(data.num_examples)\n",
    "        \n",
    "        h2_batches = np.array_split(cache[idx], n_batches)\n",
    "        \n",
    "        y_batches = np.array_split(mnist.train.labels[idx], n_batches)\n",
    "        \n",
    "        for hidden2_batch, y_batch in zip(h2_batches, y_batches):\n",
    "            \n",
    "            sess.run(training_op, feed_dict={hidden2:h2_batch, y:y_batch})\n",
    "\n",
    "    \n",
    "```"
   ]
  },
  {
   "cell_type": "markdown",
   "metadata": {},
   "source": []
  }
 ],
 "metadata": {
  "kernelspec": {
   "display_name": "Python 3",
   "language": "python",
   "name": "python3"
  },
  "language_info": {
   "codemirror_mode": {
    "name": "ipython",
    "version": 3
   },
   "file_extension": ".py",
   "mimetype": "text/x-python",
   "name": "python",
   "nbconvert_exporter": "python",
   "pygments_lexer": "ipython3",
   "version": "3.6.8"
  }
 },
 "nbformat": 4,
 "nbformat_minor": 2
}
