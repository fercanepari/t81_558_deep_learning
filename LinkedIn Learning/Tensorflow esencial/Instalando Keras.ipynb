{
 "cells": [
  {
   "cell_type": "markdown",
   "metadata": {},
   "source": [
    "Keras es una biblioteca de alto nivel que permite el uso de TensorFlow como una biblioteca de backend de aprendizaje profundo.\n",
    "El equipo de TensorFlow ha incluido a Keras en TensorFlow Core como módulo tf.keras. \n",
    "\n",
    "Los siguientes principios  de Keras lo han hecho muy popular entre la comunidad de aprendizaje profundo:\n",
    "\n",
    "* Minimalismo \n",
    "* Modularidad \n",
    "* Extensibilidad \n",
    "* Python-native \n",
    "* Arquitecturas de red comunes \n"
   ]
  },
  {
   "cell_type": "markdown",
   "metadata": {},
   "source": [
    "Para instalar keras \n",
    "> pip3 install keras\n"
   ]
  }
 ],
 "metadata": {
  "kernelspec": {
   "display_name": "Python 3",
   "language": "python",
   "name": "python3"
  },
  "language_info": {
   "codemirror_mode": {
    "name": "ipython",
    "version": 3
   },
   "file_extension": ".py",
   "mimetype": "text/x-python",
   "name": "python",
   "nbconvert_exporter": "python",
   "pygments_lexer": "ipython3",
   "version": "3.6.8"
  }
 },
 "nbformat": 4,
 "nbformat_minor": 2
}
