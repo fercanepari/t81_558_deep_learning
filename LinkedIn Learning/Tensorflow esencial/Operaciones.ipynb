{
 "cells": [
  {
   "cell_type": "markdown",
   "metadata": {},
   "source": [
    "# Operaciones en TensorFlow\n",
    "\n",
    "## Definición: \n",
    "    Una operación es un nodo del grafo donde se lleva a cabo un cómputo de tensores\n",
    "\n",
    "\n",
    "## Sintaxis:     tf.Operacion(parametros, atributos)\n",
    "\n",
    "## Tipos de Operaciones\n",
    "\n",
    "\n",
    "* Operaciones aritméticas\n",
    "\n",
    "    tf.add, tf.subtract, tf.multiply, tf.scalar_mul, tf.div, tf.divide, tf.truediv, tf.floordiv, tf.realdiv, \n",
    "    tf.truncatediv, tf.floor_div, tf.truncatemod,tf.floormod, tf.mod, tf.cross\n",
    "    \n",
    "    \n",
    "* Operaciones matemáticas básicas\n",
    "\n",
    "    tf.add_n, tf.abs, tf.negative, tf.sign, tf.reciprocal, tf.square, tf.round, tf.sqrt, tf.rsqrt,tf.pow, tf.exp, \n",
    "    tf.expm1, tf.log, tf.log1p, tf.ceil, tf.floor, tf.maximum, tf.minimum, tf.cos, tf.sin,tf.lbeta, tf.tan, tf.acos,\n",
    "    tf.asin, tf.atan, tf.lgamma, tf.digamma, tf.erf,tf.erfc, tf.igamma, tf.squared_difference, tf.igammac, tf.zeta,\n",
    "    tf.polygamma, tf.betainc, tf.rint\n",
    "\n",
    "\n",
    "* Operaciones con matrices\n",
    "\n",
    "    tf.diag, tf.diag_part, tf.trace, tf.transpose, tf.eye, tf.matrix_diag, tf.matrix_diag_part, tf.matrix_band_part, \n",
    "    tf.matrix_set_diag, tf.matrix_transpose, tf.matmul, tf.norm, tf.matrix_determinant, tf.matrix_inverse, tf.cholesky,\n",
    "    tf.cholesky_solve, tf.matrix_solve, tf.matrix_triangular_solve, tf.matrix_solve_ls, tf.qr, tf.self_adjoint_eig, \n",
    "    tf.self_adjoint_eigvals, tf.svd\n",
    "\n",
    "\n",
    "* Operaciones matemáticas de tensores\n",
    "\n",
    "    tf.tensordot\n",
    "\n",
    "\n",
    "* Operaciones con números complejos\n",
    "\n",
    "    tf.complex, tf.conj, tf.imag, tf.real\n",
    "\n",
    "\n",
    "* Operaciones con Strings\n",
    "\n",
    "    tf.string_to_hash_bucket_fast, tf.string_to_hash_bucket_strong, tf.as_string, tf.encode_base64, tf.decode_base64, \n",
    "    tf.reduce_join, tf.string_join, tf.string_split, tf.substr, tf.string_to_hash_bucket\n",
    "\n"
   ]
  },
  {
   "cell_type": "markdown",
   "metadata": {},
   "source": [
    "Otro tipo de operaciones interesantes:\n",
    "\n",
    "\n",
    "* tf.fill(shape, value)\n",
    "\n",
    "    Crea un tensor con la forma shape y lo llena con el contenido de value\n",
    "\n",
    "\n",
    "* tf.zeros(shape)\n",
    "    \n",
    "    Devuelve un tensor con la forma shape y lo llena de ceros\n",
    "\n",
    "\n",
    "* tf.zeros_like(tensor)\n",
    "\n",
    "\n",
    "    Devuelve un tensor del mismo tipo y forma tensor pero con todos los elementos establecidos en 0\n",
    "\n",
    "\n",
    "* tf.ones(shape)\n",
    "\n",
    "    Devuelve un tensor de forma shape y con todos los elementos establecidos en 1\n"
   ]
  },
  {
   "cell_type": "code",
   "execution_count": 3,
   "metadata": {},
   "outputs": [
    {
     "name": "stdout",
     "output_type": "stream",
     "text": [
      "Operacion 3  Tensor(\"Add_2:0\", shape=(), dtype=int32)\n",
      "Operacion 4  Tensor(\"Mul:0\", shape=(), dtype=int32)\n",
      "Operacion 3  12\n",
      "Operacion 4  32\n"
     ]
    }
   ],
   "source": [
    "import tensorflow as tf\n",
    "op1 = tf.add(1,3)\n",
    "op2 = tf.add(3,5)\n",
    "op3 = tf.add(op1, op2)\n",
    "op4 = tf.multiply(op1, op2)\n",
    "print(\"Operacion 3 \", op3)\n",
    "print(\"Operacion 4 \", op4)\n",
    "tf.compat.v1.disable_eager_execution()\n",
    "sess = tf.compat.v1.Session()\n",
    "print(\"Operacion 3 \", sess.run(op3))\n",
    "print(\"Operacion 4 \", sess.run(op4))\n"
   ]
  },
  {
   "cell_type": "code",
   "execution_count": 4,
   "metadata": {},
   "outputs": [
    {
     "name": "stdout",
     "output_type": "stream",
     "text": [
      "Valor de Tensor  [[1 2 3]\n",
      " [4 5 6]]\n",
      "Valor de Tzeros  [[0 0 0]\n",
      " [0 0 0]]\n"
     ]
    }
   ],
   "source": [
    "# tf.zeros_like(tensor)\n",
    "tensor = tf.constant([[1,2,3],[4,5,6]])\n",
    "tzeros = tf.zeros_like(tensor)\n",
    "sess = tf.compat.v1.Session()\n",
    "print(\"Valor de Tensor \", sess.run(tensor))\n",
    "print(\"Valor de Tzeros \", sess.run(tzeros))\n",
    "\n"
   ]
  },
  {
   "cell_type": "code",
   "execution_count": null,
   "metadata": {},
   "outputs": [],
   "source": []
  }
 ],
 "metadata": {
  "kernelspec": {
   "display_name": "Python 3",
   "language": "python",
   "name": "python3"
  },
  "language_info": {
   "codemirror_mode": {
    "name": "ipython",
    "version": 3
   },
   "file_extension": ".py",
   "mimetype": "text/x-python",
   "name": "python",
   "nbconvert_exporter": "python",
   "pygments_lexer": "ipython3",
   "version": "3.8.8"
  }
 },
 "nbformat": 4,
 "nbformat_minor": 2
}
