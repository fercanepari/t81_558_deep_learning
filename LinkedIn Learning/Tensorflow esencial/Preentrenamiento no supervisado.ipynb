{
 "cells": [
  {
   "cell_type": "markdown",
   "metadata": {},
   "source": [
    "## Preentrenamiento no supervisado\n",
    "\n",
    "ML supervisado resuelve problemas:\n",
    "\n",
    "* Clasificación\n",
    "* Predicción\n",
    "\n",
    "Para estos casos partimos de un conjunto de datos etiquetado.\n",
    "\n",
    "\n",
    "\n",
    "### El problema:\n",
    "\n",
    "* ¿Y cuando no tenemos suficientes datos etiquetados?\n",
    "\n",
    "* ¿Y si además no encontramos un modelo preentrenado?\n",
    "\n",
    "\n",
    "\n",
    "En estos casos podemos aplicar entrenamiento previo sin supervisión\n",
    "\n",
    "* Entrenamos capa por capa congelando el resto con los datos \n",
    "\n",
    "* Una vez entrenada de esta forma se pasa a un entrenamiento supervisado\n",
    "\n",
    "\n",
    "\n",
    "\n",
    "También podemos realizar entrenamientos previos de soporte\n",
    "\n",
    "* Entrenar una primera red\n",
    "\n",
    "* Reutilizar sus capas inferiores en una segunda red\n",
    "\n",
    "\n",
    "\n",
    "\n"
   ]
  },
  {
   "cell_type": "markdown",
   "metadata": {},
   "source": [
    "   \n",
    "   "
   ]
  },
  {
   "cell_type": "code",
   "execution_count": null,
   "metadata": {},
   "outputs": [],
   "source": []
  }
 ],
 "metadata": {
  "kernelspec": {
   "display_name": "Python 3",
   "language": "python",
   "name": "python3"
  },
  "language_info": {
   "codemirror_mode": {
    "name": "ipython",
    "version": 3
   },
   "file_extension": ".py",
   "mimetype": "text/x-python",
   "name": "python",
   "nbconvert_exporter": "python",
   "pygments_lexer": "ipython3",
   "version": "3.6.8"
  }
 },
 "nbformat": 4,
 "nbformat_minor": 2
}
