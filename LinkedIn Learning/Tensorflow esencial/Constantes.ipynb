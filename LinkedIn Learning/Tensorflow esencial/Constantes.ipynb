{
 "cells": [
  {
   "cell_type": "markdown",
   "metadata": {},
   "source": [
    "Estructura de un tensor tipo constante\n",
    "\n",
    "tf.constant(\n",
    "\n",
    "        value,\n",
    "\n",
    "        dtype,\n",
    "        \n",
    "        shape,\n",
    "        \n",
    "        Name\n",
    "        \n",
    ")"
   ]
  },
  {
   "cell_type": "code",
   "execution_count": 6,
   "metadata": {},
   "outputs": [],
   "source": [
    "import tensorflow as tf\n",
    "\n",
    "v1=tf.constant(5, name =\"v1\")\n",
    "v2=tf.constant(6.0, name=\"v2\")\n",
    "v3=tf.constant(2.0, tf.float32, name=\"v3\")"
   ]
  },
  {
   "cell_type": "code",
   "execution_count": 7,
   "metadata": {},
   "outputs": [
    {
     "name": "stdout",
     "output_type": "stream",
     "text": [
      "v1  Tensor(\"v1:0\", shape=(), dtype=int32)\n",
      "v2  Tensor(\"v2:0\", shape=(), dtype=float32)\n",
      "v3  Tensor(\"v3:0\", shape=(), dtype=float32)\n"
     ]
    }
   ],
   "source": [
    "print(\"v1 \", v1)\n",
    "print(\"v2 \", v2)\n",
    "print(\"v3 \", v3)\n"
   ]
  },
  {
   "cell_type": "code",
   "execution_count": 8,
   "metadata": {},
   "outputs": [
    {
     "name": "stdout",
     "output_type": "stream",
     "text": [
      "Imprimimos valores ejecutando sesión [v1,v2, v3] [5, 6.0, 2.0]\n"
     ]
    }
   ],
   "source": [
    "tf.compat.v1.disable_eager_execution()\n",
    "sess = sess = tf.compat.v1.Session()\n",
    "print(\"Imprimimos valores ejecutando sesión [v1,v2, v3]\", sess.run([v1,v2,v3]))"
   ]
  },
  {
   "cell_type": "code",
   "execution_count": null,
   "metadata": {},
   "outputs": [],
   "source": []
  },
  {
   "cell_type": "code",
   "execution_count": null,
   "metadata": {},
   "outputs": [],
   "source": []
  },
  {
   "cell_type": "code",
   "execution_count": null,
   "metadata": {},
   "outputs": [],
   "source": []
  }
 ],
 "metadata": {
  "kernelspec": {
   "display_name": "Python 3",
   "language": "python",
   "name": "python3"
  },
  "language_info": {
   "codemirror_mode": {
    "name": "ipython",
    "version": 3
   },
   "file_extension": ".py",
   "mimetype": "text/x-python",
   "name": "python",
   "nbconvert_exporter": "python",
   "pygments_lexer": "ipython3",
   "version": "3.8.8"
  }
 },
 "nbformat": 4,
 "nbformat_minor": 2
}
