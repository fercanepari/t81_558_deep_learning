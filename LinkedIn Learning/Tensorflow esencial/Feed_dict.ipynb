{
 "cells": [
  {
   "cell_type": "code",
   "execution_count": 7,
   "metadata": {},
   "outputs": [
    {
     "name": "stdout",
     "output_type": "stream",
     "text": [
      "Batman\n",
      "Robin\n"
     ]
    }
   ],
   "source": [
    "#Diccionario:\n",
    "heroes = {\"Nombre\":\"Batman\", \"compañero\":\"Robin\"}\n",
    "print(heroes[\"Nombre\"])\n",
    "print(heroes[\"compañero\"])"
   ]
  },
  {
   "cell_type": "code",
   "execution_count": 8,
   "metadata": {},
   "outputs": [
    {
     "name": "stdout",
     "output_type": "stream",
     "text": [
      "1010\n"
     ]
    }
   ],
   "source": [
    "import tensorflow as tf\n",
    "a = tf.add(2,4)\n",
    "b = tf.subtract(5,2)\n",
    "c = tf.multiply(a,b)\n",
    "\n",
    "tf.compat.v1.disable_eager_execution()\n",
    "sess = sess = tf.compat.v1.Session()\n",
    "midic = {a: 10, b:101}\n",
    "print(sess.run(c, feed_dict=midic))"
   ]
  },
  {
   "cell_type": "code",
   "execution_count": null,
   "metadata": {},
   "outputs": [],
   "source": []
  },
  {
   "cell_type": "code",
   "execution_count": null,
   "metadata": {},
   "outputs": [],
   "source": []
  }
 ],
 "metadata": {
  "kernelspec": {
   "display_name": "Python 3",
   "language": "python",
   "name": "python3"
  },
  "language_info": {
   "codemirror_mode": {
    "name": "ipython",
    "version": 3
   },
   "file_extension": ".py",
   "mimetype": "text/x-python",
   "name": "python",
   "nbconvert_exporter": "python",
   "pygments_lexer": "ipython3",
   "version": "3.8.8"
  }
 },
 "nbformat": 4,
 "nbformat_minor": 2
}
