{
 "cells": [
  {
   "cell_type": "markdown",
   "metadata": {},
   "source": [
    "## Tipos de redes de neuronas  \n",
    "    \n",
    "\n",
    "Algunos tipos más usados\n",
    "\n",
    "\n",
    "* Redes Neuronales Profundas\n",
    "    \n",
    "    \n",
    "    ** Capas ocultas\n",
    "    ** Aprendizaje supervisado y por refuerzo\n",
    "\n",
    "* Redes Neuronales Recurrentes\n",
    "    \n",
    "    \n",
    "    ** No hay estructura de capas definida\n",
    "    ** Las más famosas las LTSM\n",
    "\n",
    "* Redes Neuronales Convolucionales\n",
    "    \n",
    "    \n",
    "    ** Operaciones de convolución en sus capas\n",
    "    ** Aplicadas a imágenes\n",
    "\n"
   ]
  },
  {
   "cell_type": "code",
   "execution_count": null,
   "metadata": {},
   "outputs": [],
   "source": []
  }
 ],
 "metadata": {
  "kernelspec": {
   "display_name": "Python 3",
   "language": "python",
   "name": "python3"
  },
  "language_info": {
   "codemirror_mode": {
    "name": "ipython",
    "version": 3
   },
   "file_extension": ".py",
   "mimetype": "text/x-python",
   "name": "python",
   "nbconvert_exporter": "python",
   "pygments_lexer": "ipython3",
   "version": "3.6.8"
  }
 },
 "nbformat": 4,
 "nbformat_minor": 2
}
