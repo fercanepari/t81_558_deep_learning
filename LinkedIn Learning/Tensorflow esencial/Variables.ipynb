{
 "cells": [
  {
   "cell_type": "markdown",
   "metadata": {},
   "source": [
    "# Variables  en TensorFlow\n",
    "\n",
    "## Definición: \n",
    "    Una variable nos permite mantener valores que se puedan \n",
    "    actualizar en tiempo de ejecución\n",
    "\n",
    "\n",
    "## Sintaxis:    \n",
    "    \n",
    "       tf.Variable(\n",
    "           value,\n",
    "           dtype, \n",
    "           name=None)\n",
    "         \n",
    "       tf.global_variables_initializer()\n",
    "           "
   ]
  },
  {
   "cell_type": "code",
   "execution_count": 2,
   "metadata": {},
   "outputs": [],
   "source": [
    "import tensorflow.compat.v1 as tf\n",
    "tf.disable_v2_behavior()\n",
    "# y = -2x + 6\n",
    "w = tf.Variable([-2], tf.int32)\n",
    "b = tf.Variable([6],tf.int32)\n"
   ]
  },
  {
   "cell_type": "code",
   "execution_count": 3,
   "metadata": {},
   "outputs": [],
   "source": [
    "x = tf.placeholder(tf.int32)\n",
    "y = w*x +b"
   ]
  },
  {
   "cell_type": "code",
   "execution_count": 4,
   "metadata": {},
   "outputs": [
    {
     "name": "stdout",
     "output_type": "stream",
     "text": [
      " w  <tf.Variable 'Variable_2:0' shape=(1,) dtype=int32_ref>\n",
      " x  Tensor(\"Placeholder:0\", dtype=int32)\n",
      " b  <tf.Variable 'Variable_3:0' shape=(1,) dtype=int32_ref>\n",
      " y  Tensor(\"add:0\", dtype=int32)\n"
     ]
    }
   ],
   "source": [
    "print(\" w \",w)\n",
    "print(\" x \",x)\n",
    "print(\" b \",b)\n",
    "print(\" y \",y)"
   ]
  },
  {
   "cell_type": "code",
   "execution_count": 5,
   "metadata": {},
   "outputs": [
    {
     "name": "stdout",
     "output_type": "stream",
     "text": [
      "Resultado y [ 4  2  0 -2]\n"
     ]
    }
   ],
   "source": [
    "sess = tf.Session()\n",
    "sess.run(tf.global_variables_initializer())\n",
    "X_value = {x:[1,2,3,4]}\n",
    "print(\"Resultado y\", sess.run(y, feed_dict=X_value))\n"
   ]
  },
  {
   "cell_type": "code",
   "execution_count": null,
   "metadata": {},
   "outputs": [],
   "source": []
  }
 ],
 "metadata": {
  "kernelspec": {
   "display_name": "Python 3",
   "language": "python",
   "name": "python3"
  },
  "language_info": {
   "codemirror_mode": {
    "name": "ipython",
    "version": 3
   },
   "file_extension": ".py",
   "mimetype": "text/x-python",
   "name": "python",
   "nbconvert_exporter": "python",
   "pygments_lexer": "ipython3",
   "version": "3.8.8"
  }
 },
 "nbformat": 4,
 "nbformat_minor": 2
}
