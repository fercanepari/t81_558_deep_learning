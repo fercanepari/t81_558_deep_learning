{
 "cells": [
  {
   "cell_type": "markdown",
   "metadata": {},
   "source": [
    "### Capas en Keras\n",
    "Keras proporciona varias clases de capas para la construcción fácil de la arquitectura de red. \n",
    "\n",
    "Tipos de capas\n",
    "\n",
    "* Keras Core Layers\n",
    "* Keras Convolucional layers\n",
    "* Keras pooling layers\n",
    "* Keras recurrent layers\n",
    "* Keras merge layers\n"
   ]
  },
  {
   "cell_type": "markdown",
   "metadata": {},
   "source": [
    "### Core layers\n",
    "Algunos de los principales tipos:\n",
    "\n",
    "* Dense\n",
    "* Activation\n",
    "* Dropout\n",
    "* Flatten\n",
    "* Reshape\n",
    "* Permute\n",
    "\n",
    "\n"
   ]
  },
  {
   "cell_type": "markdown",
   "metadata": {},
   "source": [
    "### Convolucional layers\n",
    "\n",
    "Estas capas implementan los diferentes tipos de operaciones de convolución, muestreo y recorte \n",
    "\n",
    "* Conv1D, Conv2D, Conv3D   \n",
    "* SeparableConv2D\n",
    "* Conv2DTranspose \n",
    "* Croping1D,Crooping2D, Crooping3 \n",
    "* UpSampling1D,UpSampling2D,UpSampling3 \n",
    "* ZeroPadding1D,ZeroPadding2D,ZeroPadding3D \n"
   ]
  },
  {
   "cell_type": "markdown",
   "metadata": {},
   "source": [
    "### Keras pooling layers\n",
    "\n",
    "Alguno de sus tipos:\n",
    "\n",
    "* MaxPooling1D ,MaxPooling2D, MaxPooling3D\n",
    "* AveragePooling1D, AveragePooling2D,AveragePooling3D\n",
    "* GlobalMaxPooling1D ,GlobalMaxPooling2D \n",
    "* GlobalAveragePooling1D,GlobalAveragePooling2D \n"
   ]
  },
  {
   "cell_type": "markdown",
   "metadata": {},
   "source": [
    "## Redes Recurrentes\n",
    "\n",
    "* SimpleRNN\n",
    "* GRU \n",
    "* LSTM "
   ]
  },
  {
   "cell_type": "markdown",
   "metadata": {},
   "source": [
    "## Keras merge layers\n",
    "* Add \n",
    "* Multiply \n",
    "* Average\n",
    "* Maximun \n",
    "* Concatenate \n"
   ]
  },
  {
   "cell_type": "code",
   "execution_count": null,
   "metadata": {},
   "outputs": [],
   "source": []
  }
 ],
 "metadata": {
  "kernelspec": {
   "display_name": "Python 3",
   "language": "python",
   "name": "python3"
  },
  "language_info": {
   "codemirror_mode": {
    "name": "ipython",
    "version": 3
   },
   "file_extension": ".py",
   "mimetype": "text/x-python",
   "name": "python",
   "nbconvert_exporter": "python",
   "pygments_lexer": "ipython3",
   "version": "3.6.8"
  }
 },
 "nbformat": 4,
 "nbformat_minor": 2
}
