{
 "cells": [
  {
   "cell_type": "markdown",
   "metadata": {},
   "source": [
    "Desarrollamos modelo Red Neuronal de dos capas para imágenes\n"
   ]
  },
  {
   "cell_type": "markdown",
   "metadata": {},
   "source": [
    "Hay código que es común a las dos implementaciones\n",
    "\n",
    "``` \n",
    "import ...\n",
    "Xtrain = ....train.images\n",
    "ytrain = ....train.labels\n",
    "Xtest = ....test.images\n",
    "ytest = .....test.labels\n",
    "....\n",
    "x = tf.placeholder(tf.float32, [None, N_PIXELS])\n",
    "y_label = tf.placeholder(tf.float32, [None, N_CLASSES])\n",
    "\n",
    "```\n",
    "\n",
    "Definimos las capas de nuestra red:\n",
    "```\n",
    "## Para el API de bajo nivel\n",
    "\n",
    "W1 = tf.Variable(tf.truncated_normal([N_PIXELS, hsize]))\n",
    "b1 = tf.Variable(tf.zeros([HIDDEN_SIZE]))\n",
    "hidden = tf.nn.sigmoid(tf.matmul(x, W1) + b1)\n",
    "\n",
    "W2 = tf.Variable(tf.truncated_normal([HIDDEN_SIZE, N_CLASSES])\n",
    "b2 = tf.Variable(tf.zeros([N_CLASSES])\n",
    "y = tf.matmul(hidden, W2) + b2\n",
    "\n",
    "\n",
    "## Para el API de alto nivel\n",
    "\n",
    "hidden = tf.layers.dense(x, hsize, activation=tf.nn.sigmoid, use_bias=True)\n",
    "y = tf.layers.dense(hidden, N_CLASSES, activation=None, use_bias=True))\n",
    "\n",
    "```\n",
    "\n",
    "\n",
    "\n",
    "\n",
    "\n",
    "Definimos las funciones de pérdida, optimizador, métricas y ejecutamos el modelo\n",
    "\n",
    "```\n",
    "## Función de loss\n",
    "loss = tf.reduce_mean(\n",
    "    tf.nn.softmax_cross_entropy_with_logits(logits=y, labels=y_label))\n",
    "              \n",
    "accuracy = tf.reduce_mean(tf.cast(tf.equal(tf.argmax(y, 1),\n",
    "                                           tf.argmax(y_label, 1)),\n",
    "                                  tf.float32))               \n",
    "sgd = tf.train.GradientDescentOptimizer(0.5).minimize(loss)\n",
    "sess.run(tf.global_variables_initializer())\n",
    "inds = range(Xtrain.shape[0])\n",
    "\n",
    "for i in xrange(EPOCHS):\n",
    "    np.random.shuffle(inds)\n",
    "    for j in xrange(0, len(inds), BATCH_SIZE):\n",
    "        sess.run(sgd, feed_dict={x: Xtrain[inds[j:j+BATCH_SIZE]],\n",
    "                                 y_label: ytrain[inds[j:j+BATCH_SIZE]]})\n",
    "\n",
    "    print sess.run([loss, accuracy], feed_dict={x: Xtest, y_label: ytest}\n",
    "    \n",
    " ```\n",
    " "
   ]
  },
  {
   "cell_type": "code",
   "execution_count": null,
   "metadata": {},
   "outputs": [],
   "source": []
  }
 ],
 "metadata": {
  "kernelspec": {
   "display_name": "Python 3",
   "language": "python",
   "name": "python3"
  },
  "language_info": {
   "codemirror_mode": {
    "name": "ipython",
    "version": 3
   },
   "file_extension": ".py",
   "mimetype": "text/x-python",
   "name": "python",
   "nbconvert_exporter": "python",
   "pygments_lexer": "ipython3",
   "version": "3.6.8"
  }
 },
 "nbformat": 4,
 "nbformat_minor": 2
}
