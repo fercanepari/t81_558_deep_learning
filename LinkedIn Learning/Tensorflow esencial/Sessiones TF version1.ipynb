{
 "cells": [
  {
   "cell_type": "code",
   "execution_count": 9,
   "id": "8804a092",
   "metadata": {},
   "outputs": [
    {
     "name": "stdout",
     "output_type": "stream",
     "text": [
      "36\n",
      "165\n"
     ]
    }
   ],
   "source": [
    "import tensorflow as tf\n",
    "\n",
    "#help(tf.compat.v1.Session())\n",
    "tf.compat.v1.disable_eager_execution()\n",
    "g1 = tf.Graph()\n",
    "\n",
    "with g1.as_default():\n",
    "    a = tf.add(2,4)\n",
    "    b = tf.add(3,3)\n",
    "    product = tf.multiply(a,b)\n",
    "\n",
    "sess = tf.compat.v1.Session(graph = g1)    \n",
    "print(sess.run(product))\n",
    "\n",
    "g2 = tf.Graph()\n",
    "\n",
    "with g2.as_default():\n",
    "    a = tf.add(5,6)\n",
    "    b = tf.add(8,7)\n",
    "    product = tf.multiply(a,b)\n",
    "\n",
    "sess = tf.compat.v1.Session(graph = g2)\n",
    "print(sess.run(product))\n"
   ]
  },
  {
   "cell_type": "raw",
   "id": "19b08606",
   "metadata": {},
   "source": []
  },
  {
   "cell_type": "code",
   "execution_count": 12,
   "id": "2b3e381c",
   "metadata": {},
   "outputs": [
    {
     "name": "stdout",
     "output_type": "stream",
     "text": [
      "Valor de c: 12\n",
      "Valor calculo del tensor: 12\n",
      "Valor pasando array: [4, 7, 12]\n"
     ]
    }
   ],
   "source": [
    "a = tf.add(2,2)\n",
    "b = tf.add(3,4)\n",
    "c = tf.multiply(3,4)\n",
    "sess = tf.compat.v1.Session()\n",
    "\n",
    "print(\"Valor de c:\", sess.run(c))\n",
    "print(\"Valor calculo del tensor:\", sess.run(tf.multiply(3,4)))\n",
    "print(\"Valor pasando array:\", sess.run([a,b,c]))\n",
    "\n",
    "\n",
    "\n",
    "\n"
   ]
  },
  {
   "cell_type": "code",
   "execution_count": null,
   "id": "4e4ddcad",
   "metadata": {},
   "outputs": [],
   "source": []
  }
 ],
 "metadata": {
  "kernelspec": {
   "display_name": "Python [conda env:torch] *",
   "language": "python",
   "name": "conda-env-torch-py"
  },
  "language_info": {
   "codemirror_mode": {
    "name": "ipython",
    "version": 3
   },
   "file_extension": ".py",
   "mimetype": "text/x-python",
   "name": "python",
   "nbconvert_exporter": "python",
   "pygments_lexer": "ipython3",
   "version": "3.8.8"
  }
 },
 "nbformat": 4,
 "nbformat_minor": 5
}
