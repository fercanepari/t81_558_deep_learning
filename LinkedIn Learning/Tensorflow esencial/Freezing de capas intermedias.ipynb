{
 "cells": [
  {
   "cell_type": "markdown",
   "metadata": {},
   "source": [
    "## Freezing de capas intermedias\n",
    "\n",
    "Dentro de una DNN las capas inferiores aprenden a detectar características de bajo nivel\n",
    "Si estamos reutilizando capas de otros modelos necesitamos congelarlos para que no se entrenen.\n",
    "\n",
    "\n",
    "Para congelar las capas inferiores durante el entrenamiento le damos al optimizador la lista de variables para entrenar, excluyendo las variables de las capas inferiores:\n",
    "\n",
    "```\n",
    "variables_entrenar = tf.get_collection(tf.GraphKeys.TRAINABLE_VARIABLES, scope=\"hidden[89]\")\n",
    "opt= optimizer.minimize(loss, var_list=variables_entrenar)\n",
    "\n",
    "```\n",
    "\n",
    "Otra opción es agregar una capa stop_gradient () en el grafo \n",
    "\n",
    "```\n",
    "with tf.name_scope(\"dnn\"):\n",
    "    capa1 = tf.layers.dense(X, n_1, activation=tf.nn.relu,name=\"capa1\")\n",
    "    capa2 = tf.layers.dense(capa1, n_2, activation=tf.nn.relu,name=\"capa2\")\n",
    "    capa_stop = tf.stop_gradient(capa2)\n",
    "    capa3 = tf.layers.dense(capa_stop, n_3, activation=tf.nn.relu,name=\"capa3\")\n",
    "    capa4 = tf.layers.dense(capat, n_h, activation=tf.nn.relu,  name=\"capa4\")\n",
    "\n",
    "\n",
    "```\n",
    "Cualquier capa debajo de ella se congelará"
   ]
  },
  {
   "cell_type": "code",
   "execution_count": null,
   "metadata": {},
   "outputs": [],
   "source": []
  }
 ],
 "metadata": {
  "kernelspec": {
   "display_name": "Python 3",
   "language": "python",
   "name": "python3"
  },
  "language_info": {
   "codemirror_mode": {
    "name": "ipython",
    "version": 3
   },
   "file_extension": ".py",
   "mimetype": "text/x-python",
   "name": "python",
   "nbconvert_exporter": "python",
   "pygments_lexer": "ipython3",
   "version": "3.6.8"
  }
 },
 "nbformat": 4,
 "nbformat_minor": 2
}
