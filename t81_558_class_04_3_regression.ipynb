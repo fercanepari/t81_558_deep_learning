{
 "cells": [
  {
   "cell_type": "markdown",
   "metadata": {},
   "source": [
    "<a href=\"https://colab.research.google.com/github/jeffheaton/t81_558_deep_learning/blob/master/t81_558_class_04_3_regression.ipynb\" target=\"_parent\"><img src=\"https://colab.research.google.com/assets/colab-badge.svg\" alt=\"Open In Colab\"/></a>"
   ]
  },
  {
   "cell_type": "markdown",
   "metadata": {},
   "source": [
    "# T81-558: Applications of Deep Neural Networks\n",
    "**Module 4: Training for Tabular Data**\n",
    "* Instructor: [Jeff Heaton](https://sites.wustl.edu/jeffheaton/), McKelvey School of Engineering, [Washington University in St. Louis](https://engineering.wustl.edu/Programs/Pages/default.aspx)\n",
    "* For more information visit the [class website](https://sites.wustl.edu/jeffheaton/t81-558/)."
   ]
  },
  {
   "cell_type": "markdown",
   "metadata": {},
   "source": [
    "# Module 4 Material\n",
    "\n",
    "* Part 4.1: Encoding a Feature Vector for Keras Deep Learning [[Video]](https://www.youtube.com/watch?v=Vxz-gfs9nMQ&list=PLjy4p-07OYzulelvJ5KVaT2pDlxivl_BN) [[Notebook]](t81_558_class_04_1_feature_encode.ipynb)\n",
    "* Part 4.2: Keras Multiclass Classification for Deep Neural Networks with ROC and AUC [[Video]](https://www.youtube.com/watch?v=-f3bg9dLMks&list=PLjy4p-07OYzulelvJ5KVaT2pDlxivl_BN) [[Notebook]](t81_558_class_04_2_multi_class.ipynb)\n",
    "* **Part 4.3: Keras Regression for Deep Neural Networks with RMSE** [[Video]](https://www.youtube.com/watch?v=wNhBUC6X5-E&list=PLjy4p-07OYzulelvJ5KVaT2pDlxivl_BN) [[Notebook]](t81_558_class_04_3_regression.ipynb)\n",
    "* Part 4.4: Backpropagation, Nesterov Momentum, and ADAM Neural Network Training [[Video]](https://www.youtube.com/watch?v=VbDg8aBgpck&list=PLjy4p-07OYzulelvJ5KVaT2pDlxivl_BN) [[Notebook]](t81_558_class_04_4_backprop.ipynb)\n",
    "* Part 4.5: Neural Network RMSE and Log Loss Error Calculation from Scratch [[Video]](https://www.youtube.com/watch?v=wmQX1t2PHJc&list=PLjy4p-07OYzulelvJ5KVaT2pDlxivl_BN) [[Notebook]](t81_558_class_04_5_rmse_logloss.ipynb)"
   ]
  },
  {
   "cell_type": "markdown",
   "metadata": {},
   "source": [
    "# Google CoLab Instructions\n",
    "\n",
    "The following code ensures that Google CoLab is running the correct version of TensorFlow."
   ]
  },
  {
   "cell_type": "code",
   "execution_count": 5,
   "metadata": {},
   "outputs": [
    {
     "name": "stdout",
     "output_type": "stream",
     "text": [
      "Note: not using Google CoLab\n"
     ]
    }
   ],
   "source": [
    "try:\n",
    "    %tensorflow_version 2.x\n",
    "    COLAB = True\n",
    "    print(\"Note: using Google CoLab\")\n",
    "except:\n",
    "    print(\"Note: not using Google CoLab\")\n",
    "    COLAB = False"
   ]
  },
  {
   "cell_type": "markdown",
   "metadata": {},
   "source": [
    "# Part 4.3: Keras Regression for Deep Neural Networks with RMSE\n",
    "\n",
    "Regression results are evaluated differently than classification.  Consider the following code that trains a neural network for regression on the data set **jh-simple-dataset.csv**.  "
   ]
  },
  {
   "cell_type": "code",
   "execution_count": 6,
   "metadata": {},
   "outputs": [],
   "source": [
    "import pandas as pd\n",
    "from scipy.stats import zscore\n",
    "from sklearn.model_selection import train_test_split\n",
    "import matplotlib.pyplot as plt\n",
    "\n",
    "# Read the data set\n",
    "df = pd.read_csv(\n",
    "    \"https://data.heatonresearch.com/data/t81-558/jh-simple-dataset.csv\",\n",
    "    na_values=['NA','?'])\n",
    "\n",
    "# Generate dummies for job\n",
    "df = pd.concat([df,pd.get_dummies(df['job'],prefix=\"job\")],axis=1)\n",
    "df.drop('job', axis=1, inplace=True)\n",
    "\n",
    "# Generate dummies for area\n",
    "df = pd.concat([df,pd.get_dummies(df['area'],prefix=\"area\")],axis=1)\n",
    "df.drop('area', axis=1, inplace=True)\n",
    "\n",
    "# Generate dummies for product\n",
    "df = pd.concat([df,pd.get_dummies(df['product'],prefix=\"product\")],axis=1)\n",
    "df.drop('product', axis=1, inplace=True)\n",
    "\n",
    "# Missing values for income\n",
    "med = df['income'].median()\n",
    "df['income'] = df['income'].fillna(med)\n",
    "\n",
    "# Standardize ranges\n",
    "df['income'] = zscore(df['income'])\n",
    "df['aspect'] = zscore(df['aspect'])\n",
    "df['save_rate'] = zscore(df['save_rate'])\n",
    "df['subscriptions'] = zscore(df['subscriptions'])\n",
    "\n",
    "# Convert to numpy - Classification\n",
    "x_columns = df.columns.drop('age').drop('id')\n",
    "x = df[x_columns].values\n",
    "y = df['age'].values\n",
    "\n",
    "# Create train/test\n",
    "x_train, x_test, y_train, y_test = train_test_split(    \n",
    "    x, y, test_size=0.25, random_state=42)"
   ]
  },
  {
   "cell_type": "code",
   "execution_count": 7,
   "metadata": {},
   "outputs": [
    {
     "name": "stdout",
     "output_type": "stream",
     "text": [
      "Epoch 1/1000\n",
      "47/47 - 1s - loss: 1383.1222 - val_loss: 926.2370\n",
      "Epoch 2/1000\n",
      "47/47 - 0s - loss: 611.2261 - val_loss: 345.6328\n",
      "Epoch 3/1000\n",
      "47/47 - 0s - loss: 327.1080 - val_loss: 293.5490\n",
      "Epoch 4/1000\n",
      "47/47 - 0s - loss: 281.0571 - val_loss: 253.8804\n",
      "Epoch 5/1000\n",
      "47/47 - 0s - loss: 237.7327 - val_loss: 213.8746\n",
      "Epoch 6/1000\n",
      "47/47 - 0s - loss: 196.6687 - val_loss: 178.1192\n",
      "Epoch 7/1000\n",
      "47/47 - 0s - loss: 161.7498 - val_loss: 145.6079\n",
      "Epoch 8/1000\n",
      "47/47 - 0s - loss: 129.8089 - val_loss: 118.7620\n",
      "Epoch 9/1000\n",
      "47/47 - 0s - loss: 103.6920 - val_loss: 96.1416\n",
      "Epoch 10/1000\n",
      "47/47 - 0s - loss: 83.1703 - val_loss: 78.8620\n",
      "Epoch 11/1000\n",
      "47/47 - 0s - loss: 67.2235 - val_loss: 65.0862\n",
      "Epoch 12/1000\n",
      "47/47 - 0s - loss: 54.8427 - val_loss: 54.5847\n",
      "Epoch 13/1000\n",
      "47/47 - 0s - loss: 44.9703 - val_loss: 46.0785\n",
      "Epoch 14/1000\n",
      "47/47 - 0s - loss: 37.7637 - val_loss: 39.2706\n",
      "Epoch 15/1000\n",
      "47/47 - 0s - loss: 31.4223 - val_loss: 33.5614\n",
      "Epoch 16/1000\n",
      "47/47 - 0s - loss: 26.6164 - val_loss: 29.1471\n",
      "Epoch 17/1000\n",
      "47/47 - 0s - loss: 22.9725 - val_loss: 25.6357\n",
      "Epoch 18/1000\n",
      "47/47 - 0s - loss: 20.2508 - val_loss: 22.5745\n",
      "Epoch 19/1000\n",
      "47/47 - 0s - loss: 18.0755 - val_loss: 20.3297\n",
      "Epoch 20/1000\n",
      "47/47 - 0s - loss: 16.3757 - val_loss: 18.5203\n",
      "Epoch 21/1000\n",
      "47/47 - 0s - loss: 15.1300 - val_loss: 17.5867\n",
      "Epoch 22/1000\n",
      "47/47 - 0s - loss: 14.2522 - val_loss: 16.0519\n",
      "Epoch 23/1000\n",
      "47/47 - 0s - loss: 13.2752 - val_loss: 14.9332\n",
      "Epoch 24/1000\n",
      "47/47 - 0s - loss: 12.7197 - val_loss: 14.1161\n",
      "Epoch 25/1000\n",
      "47/47 - 0s - loss: 12.0669 - val_loss: 13.8722\n",
      "Epoch 26/1000\n",
      "47/47 - 0s - loss: 11.5967 - val_loss: 12.8184\n",
      "Epoch 27/1000\n",
      "47/47 - 0s - loss: 11.2008 - val_loss: 12.2933\n",
      "Epoch 28/1000\n",
      "47/47 - 0s - loss: 10.8857 - val_loss: 11.9361\n",
      "Epoch 29/1000\n",
      "47/47 - 0s - loss: 10.3838 - val_loss: 11.5729\n",
      "Epoch 30/1000\n",
      "47/47 - 0s - loss: 10.1076 - val_loss: 10.9735\n",
      "Epoch 31/1000\n",
      "47/47 - 0s - loss: 9.6581 - val_loss: 10.4458\n",
      "Epoch 32/1000\n",
      "47/47 - 0s - loss: 9.4022 - val_loss: 10.1178\n",
      "Epoch 33/1000\n",
      "47/47 - 0s - loss: 9.0170 - val_loss: 10.5477\n",
      "Epoch 34/1000\n",
      "47/47 - 0s - loss: 8.8326 - val_loss: 9.4469\n",
      "Epoch 35/1000\n",
      "47/47 - 0s - loss: 8.6127 - val_loss: 9.0816\n",
      "Epoch 36/1000\n",
      "47/47 - 0s - loss: 8.1683 - val_loss: 8.8192\n",
      "Epoch 37/1000\n",
      "47/47 - 0s - loss: 7.8935 - val_loss: 8.4678\n",
      "Epoch 38/1000\n",
      "47/47 - 0s - loss: 7.7019 - val_loss: 8.2519\n",
      "Epoch 39/1000\n",
      "47/47 - 0s - loss: 7.3332 - val_loss: 7.8770\n",
      "Epoch 40/1000\n",
      "47/47 - 0s - loss: 7.1088 - val_loss: 7.7978\n",
      "Epoch 41/1000\n",
      "47/47 - 0s - loss: 6.8428 - val_loss: 7.7299\n",
      "Epoch 42/1000\n",
      "47/47 - 0s - loss: 6.5703 - val_loss: 7.1210\n",
      "Epoch 43/1000\n",
      "47/47 - 0s - loss: 6.3634 - val_loss: 6.8947\n",
      "Epoch 44/1000\n",
      "47/47 - 0s - loss: 6.1810 - val_loss: 6.5354\n",
      "Epoch 45/1000\n",
      "47/47 - 0s - loss: 5.9038 - val_loss: 6.4167\n",
      "Epoch 46/1000\n",
      "47/47 - 0s - loss: 5.7274 - val_loss: 6.4211\n",
      "Epoch 47/1000\n",
      "47/47 - 0s - loss: 5.4537 - val_loss: 5.9200\n",
      "Epoch 48/1000\n",
      "47/47 - 0s - loss: 5.3033 - val_loss: 5.6773\n",
      "Epoch 49/1000\n",
      "47/47 - 0s - loss: 5.0701 - val_loss: 5.4036\n",
      "Epoch 50/1000\n",
      "47/47 - 0s - loss: 4.8440 - val_loss: 5.2012\n",
      "Epoch 51/1000\n",
      "47/47 - 0s - loss: 4.5779 - val_loss: 5.1353\n",
      "Epoch 52/1000\n",
      "47/47 - 0s - loss: 4.4544 - val_loss: 4.8937\n",
      "Epoch 53/1000\n",
      "47/47 - 0s - loss: 4.2365 - val_loss: 4.8032\n",
      "Epoch 54/1000\n",
      "47/47 - 0s - loss: 4.0715 - val_loss: 4.3263\n",
      "Epoch 55/1000\n",
      "47/47 - 0s - loss: 3.8782 - val_loss: 4.1178\n",
      "Epoch 56/1000\n",
      "47/47 - 0s - loss: 3.6590 - val_loss: 3.9737\n",
      "Epoch 57/1000\n",
      "47/47 - 0s - loss: 3.4434 - val_loss: 3.9685\n",
      "Epoch 58/1000\n",
      "47/47 - 0s - loss: 3.2283 - val_loss: 3.6648\n",
      "Epoch 59/1000\n",
      "47/47 - 0s - loss: 3.3249 - val_loss: 3.5961\n",
      "Epoch 60/1000\n",
      "47/47 - 0s - loss: 2.9512 - val_loss: 3.2659\n",
      "Epoch 61/1000\n",
      "47/47 - 0s - loss: 2.8040 - val_loss: 3.6419\n",
      "Epoch 62/1000\n",
      "47/47 - 0s - loss: 2.6640 - val_loss: 3.0157\n",
      "Epoch 63/1000\n",
      "47/47 - 0s - loss: 2.5521 - val_loss: 2.8537\n",
      "Epoch 64/1000\n",
      "47/47 - 0s - loss: 2.3823 - val_loss: 2.6971\n",
      "Epoch 65/1000\n",
      "47/47 - 0s - loss: 2.2857 - val_loss: 2.5993\n",
      "Epoch 66/1000\n",
      "47/47 - 0s - loss: 2.0999 - val_loss: 2.4084\n",
      "Epoch 67/1000\n",
      "47/47 - 0s - loss: 1.9962 - val_loss: 2.4540\n",
      "Epoch 68/1000\n",
      "47/47 - 0s - loss: 1.9220 - val_loss: 2.2136\n",
      "Epoch 69/1000\n",
      "47/47 - 0s - loss: 1.7696 - val_loss: 2.4789\n",
      "Epoch 70/1000\n",
      "47/47 - 0s - loss: 1.7684 - val_loss: 1.9336\n",
      "Epoch 71/1000\n",
      "47/47 - 0s - loss: 1.5602 - val_loss: 1.7241\n",
      "Epoch 72/1000\n",
      "47/47 - 0s - loss: 1.3678 - val_loss: 1.5888\n",
      "Epoch 73/1000\n",
      "47/47 - 0s - loss: 1.2455 - val_loss: 1.5345\n",
      "Epoch 74/1000\n",
      "47/47 - 0s - loss: 1.2154 - val_loss: 1.6315\n",
      "Epoch 75/1000\n",
      "47/47 - 0s - loss: 1.1077 - val_loss: 1.3957\n",
      "Epoch 76/1000\n",
      "47/47 - 0s - loss: 1.0626 - val_loss: 1.2659\n",
      "Epoch 77/1000\n",
      "47/47 - 0s - loss: 0.9795 - val_loss: 1.2118\n",
      "Epoch 78/1000\n",
      "47/47 - 0s - loss: 0.9198 - val_loss: 1.1685\n",
      "Epoch 79/1000\n",
      "47/47 - 0s - loss: 0.8691 - val_loss: 1.1973\n",
      "Epoch 80/1000\n",
      "47/47 - 0s - loss: 0.8368 - val_loss: 1.0876\n",
      "Epoch 81/1000\n",
      "47/47 - 0s - loss: 0.8265 - val_loss: 1.0312\n",
      "Epoch 82/1000\n",
      "47/47 - 0s - loss: 0.7587 - val_loss: 1.0151\n",
      "Epoch 83/1000\n",
      "47/47 - 0s - loss: 0.7645 - val_loss: 1.0278\n",
      "Epoch 84/1000\n",
      "47/47 - 0s - loss: 0.6862 - val_loss: 0.9467\n",
      "Epoch 85/1000\n",
      "47/47 - 0s - loss: 0.6876 - val_loss: 1.0630\n",
      "Epoch 86/1000\n",
      "47/47 - 0s - loss: 0.7077 - val_loss: 0.9241\n",
      "Epoch 87/1000\n",
      "47/47 - 0s - loss: 0.6685 - val_loss: 0.8723\n",
      "Epoch 88/1000\n",
      "47/47 - 0s - loss: 0.6260 - val_loss: 0.9634\n",
      "Epoch 89/1000\n",
      "47/47 - 0s - loss: 0.6374 - val_loss: 0.8597\n",
      "Epoch 90/1000\n",
      "47/47 - 0s - loss: 0.5999 - val_loss: 0.8739\n",
      "Epoch 91/1000\n",
      "47/47 - 0s - loss: 0.5848 - val_loss: 0.8076\n",
      "Epoch 92/1000\n",
      "47/47 - 0s - loss: 0.5565 - val_loss: 0.8342\n",
      "Epoch 93/1000\n",
      "47/47 - 0s - loss: 0.5549 - val_loss: 0.7824\n",
      "Epoch 94/1000\n",
      "47/47 - 0s - loss: 0.5279 - val_loss: 0.7787\n",
      "Epoch 95/1000\n",
      "47/47 - 0s - loss: 0.5103 - val_loss: 0.8006\n",
      "Epoch 96/1000\n",
      "47/47 - 0s - loss: 0.5230 - val_loss: 0.8122\n",
      "Epoch 97/1000\n",
      "47/47 - 0s - loss: 0.4989 - val_loss: 0.7325\n",
      "Epoch 98/1000\n",
      "47/47 - 0s - loss: 0.4997 - val_loss: 0.7220\n",
      "Epoch 99/1000\n",
      "47/47 - 0s - loss: 0.4951 - val_loss: 0.7435\n",
      "Epoch 100/1000\n",
      "47/47 - 0s - loss: 0.4691 - val_loss: 0.7250\n",
      "Epoch 101/1000\n",
      "47/47 - 0s - loss: 0.4801 - val_loss: 0.7094\n",
      "Epoch 102/1000\n",
      "47/47 - 0s - loss: 0.4781 - val_loss: 0.7059\n",
      "Epoch 103/1000\n",
      "47/47 - 0s - loss: 0.4670 - val_loss: 0.7075\n",
      "Epoch 104/1000\n",
      "47/47 - 0s - loss: 0.4554 - val_loss: 0.7726\n",
      "Epoch 105/1000\n",
      "47/47 - 0s - loss: 0.4611 - val_loss: 0.6946\n",
      "Epoch 106/1000\n",
      "47/47 - 0s - loss: 0.4451 - val_loss: 0.7019\n",
      "Epoch 107/1000\n",
      "47/47 - 0s - loss: 0.4399 - val_loss: 0.6905\n",
      "Epoch 108/1000\n",
      "47/47 - 0s - loss: 0.4469 - val_loss: 0.7024\n",
      "Epoch 109/1000\n",
      "47/47 - 0s - loss: 0.4508 - val_loss: 0.7643\n",
      "Epoch 110/1000\n",
      "47/47 - 0s - loss: 0.4418 - val_loss: 0.6871\n",
      "Epoch 111/1000\n",
      "47/47 - 0s - loss: 0.4514 - val_loss: 0.7028\n",
      "Epoch 112/1000\n",
      "47/47 - 0s - loss: 0.4808 - val_loss: 0.6923\n",
      "Epoch 113/1000\n",
      "47/47 - 0s - loss: 0.4322 - val_loss: 0.6907\n",
      "Epoch 114/1000\n",
      "47/47 - 0s - loss: 0.4283 - val_loss: 0.7162\n",
      "Epoch 115/1000\n",
      "47/47 - 0s - loss: 0.4654 - val_loss: 0.6991\n",
      "Restoring model weights from the end of the best epoch.\n",
      "Epoch 00115: early stopping\n"
     ]
    },
    {
     "data": {
      "text/plain": [
       "<tensorflow.python.keras.callbacks.History at 0x23e40d207c0>"
      ]
     },
     "execution_count": 7,
     "metadata": {},
     "output_type": "execute_result"
    }
   ],
   "source": [
    "from tensorflow.keras.models import Sequential\n",
    "from tensorflow.keras.layers import Dense, Activation\n",
    "from tensorflow.keras.callbacks import EarlyStopping\n",
    "\n",
    "# Build the neural network\n",
    "model = Sequential()\n",
    "model.add(Dense(25, input_dim=x.shape[1], activation='relu')) # Hidden 1\n",
    "model.add(Dense(10, activation='relu')) # Hidden 2\n",
    "model.add(Dense(1)) # Output\n",
    "model.compile(loss='mean_squared_error', optimizer='adam')\n",
    "monitor = EarlyStopping(monitor='val_loss', min_delta=1e-3, \n",
    "                        patience=5, verbose=1, mode='auto', \n",
    "                        restore_best_weights=True)\n",
    "model.fit(x_train,y_train,validation_data=(x_test,y_test),\n",
    "          callbacks=[monitor],verbose=2,epochs=1000)\n"
   ]
  },
  {
   "cell_type": "markdown",
   "metadata": {},
   "source": [
    "### Mean Square Error\n",
    "\n",
    "The mean square error is the sum of the squared differences between the prediction ($\\hat{y}$) and the expected ($y$).  MSE values are not of a particular unit.  If an MSE value has decreased for a model, that is good.  However, beyond this, there is not much more you can determine.  Low MSE values are desired.\n",
    "\n",
    "$ \\mbox{MSE} = \\frac{1}{n} \\sum_{i=1}^n \\left(\\hat{y}_i - y_i\\right)^2 $\n"
   ]
  },
  {
   "cell_type": "code",
   "execution_count": 8,
   "metadata": {},
   "outputs": [
    {
     "name": "stdout",
     "output_type": "stream",
     "text": [
      "Final score (MSE): 0.6870866788804487\n"
     ]
    }
   ],
   "source": [
    "from sklearn import metrics\n",
    "\n",
    "# Predict\n",
    "pred = model.predict(x_test)\n",
    "\n",
    "# Measure MSE error.  \n",
    "score = metrics.mean_squared_error(pred,y_test)\n",
    "print(\"Final score (MSE): {}\".format(score))"
   ]
  },
  {
   "cell_type": "markdown",
   "metadata": {},
   "source": [
    "### Root Mean Square Error\n",
    "\n",
    "The root mean square (RMSE) is essentially the square root of the MSE.  Because of this, the RMSE error is in the same units as the training data outcome. Low RMSE values are desired.\n",
    "\n",
    "$ \\mbox{RMSE} = \\sqrt{\\frac{1}{n} \\sum_{i=1}^n \\left(\\hat{y}_i - y_i\\right)^2} $"
   ]
  },
  {
   "cell_type": "code",
   "execution_count": 9,
   "metadata": {},
   "outputs": [
    {
     "name": "stdout",
     "output_type": "stream",
     "text": [
      "Final score (RMSE): 0.8289069181038657\n"
     ]
    }
   ],
   "source": [
    "import numpy as np\n",
    "\n",
    "# Measure RMSE error.  RMSE is common for regression.\n",
    "score = np.sqrt(metrics.mean_squared_error(pred,y_test))\n",
    "print(\"Final score (RMSE): {}\".format(score))"
   ]
  },
  {
   "cell_type": "markdown",
   "metadata": {},
   "source": [
    "### Lift Chart\n",
    "\n",
    "\n",
    "To generate a lift chart, perform the following activities:\n",
    "\n",
    "* Sort the data by expected output. Plot the blue line above.\n",
    "* For every point on the x-axis plot the predicted value for that same data point. This is the green line above.\n",
    "* The x-axis is just 0 to 100% of the dataset. The expected always starts low and ends high.\n",
    "* The y-axis is ranged according to the values predicted.\n",
    "\n",
    "Reading a lift chart:\n",
    "\n",
    "* The expected and predict lines should be close. Notice where one is above the ot other.\n",
    "* The below chart is the most accurate on lower age."
   ]
  },
  {
   "cell_type": "code",
   "execution_count": 10,
   "metadata": {},
   "outputs": [],
   "source": [
    "# Regression chart.\n",
    "def chart_regression(pred, y, sort=True):\n",
    "    t = pd.DataFrame({'pred': pred, 'y': y.flatten()})\n",
    "    if sort:\n",
    "        t.sort_values(by=['y'], inplace=True)\n",
    "    plt.plot(t['y'].tolist(), label='expected')\n",
    "    plt.plot(t['pred'].tolist(), label='prediction')\n",
    "    plt.ylabel('output')\n",
    "    plt.legend()\n",
    "    plt.show()"
   ]
  },
  {
   "cell_type": "code",
   "execution_count": 11,
   "metadata": {},
   "outputs": [
    {
     "data": {
      "image/png": "[encoded data removed]",
      "text/plain": [
       "<Figure size 432x288 with 1 Axes>"
      ]
     },
     "metadata": {
      "needs_background": "light"
     },
     "output_type": "display_data"
    }
   ],
   "source": [
    "\n",
    "# Plot the chart\n",
    "chart_regression(pred.flatten(),y_test)"
   ]
  },
  {
   "cell_type": "code",
   "execution_count": null,
   "metadata": {},
   "outputs": [],
   "source": []
  }
 ],
 "metadata": {
  "anaconda-cloud": {},
  "kernelspec": {
   "display_name": "Python [conda env:torch] *",
   "language": "python",
   "name": "conda-env-torch-py"
  },
  "language_info": {
   "codemirror_mode": {
    "name": "ipython",
    "version": 3
   },
   "file_extension": ".py",
   "mimetype": "text/x-python",
   "name": "python",
   "nbconvert_exporter": "python",
   "pygments_lexer": "ipython3",
   "version": "3.8.8"
  }
 },
 "nbformat": 4,
 "nbformat_minor": 4
}
